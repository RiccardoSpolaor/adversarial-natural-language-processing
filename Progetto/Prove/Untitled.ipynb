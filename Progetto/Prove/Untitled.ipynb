{
 "cells": [
  {
   "cell_type": "markdown",
   "metadata": {},
   "source": [
    "CHECK GPUs"
   ]
  },
  {
   "cell_type": "code",
   "execution_count": 1,
   "metadata": {},
   "outputs": [
    {
     "name": "stdout",
     "output_type": "stream",
     "text": [
      "Num GPUs Available:  1\n"
     ]
    }
   ],
   "source": [
    "from __future__ import absolute_import, division, print_function, unicode_literals\n",
    "import tensorflow as tf\n",
    "print(\"Num GPUs Available: \", len(tf.config.experimental.list_physical_devices('GPU')))"
   ]
  },
  {
   "cell_type": "markdown",
   "metadata": {},
   "source": [
    "TRYING KERAS"
   ]
  },
  {
   "cell_type": "code",
   "execution_count": 2,
   "metadata": {},
   "outputs": [],
   "source": [
    "from keras.datasets import imdb\n",
    "(train_data, train_labels), (test_data, test_labels) = imdb.load_data(\n",
    "num_words=10000)"
   ]
  },
  {
   "cell_type": "code",
   "execution_count": 3,
   "metadata": {},
   "outputs": [
    {
     "data": {
      "text/plain": [
       "[1,\n",
       " 14,\n",
       " 22,\n",
       " 16,\n",
       " 43,\n",
       " 530,\n",
       " 973,\n",
       " 1622,\n",
       " 1385,\n",
       " 65,\n",
       " 458,\n",
       " 4468,\n",
       " 66,\n",
       " 3941,\n",
       " 4,\n",
       " 173,\n",
       " 36,\n",
       " 256,\n",
       " 5,\n",
       " 25,\n",
       " 100,\n",
       " 43,\n",
       " 838,\n",
       " 112,\n",
       " 50,\n",
       " 670,\n",
       " 2,\n",
       " 9,\n",
       " 35,\n",
       " 480,\n",
       " 284,\n",
       " 5,\n",
       " 150,\n",
       " 4,\n",
       " 172,\n",
       " 112,\n",
       " 167,\n",
       " 2,\n",
       " 336,\n",
       " 385,\n",
       " 39,\n",
       " 4,\n",
       " 172,\n",
       " 4536,\n",
       " 1111,\n",
       " 17,\n",
       " 546,\n",
       " 38,\n",
       " 13,\n",
       " 447,\n",
       " 4,\n",
       " 192,\n",
       " 50,\n",
       " 16,\n",
       " 6,\n",
       " 147,\n",
       " 2025,\n",
       " 19,\n",
       " 14,\n",
       " 22,\n",
       " 4,\n",
       " 1920,\n",
       " 4613,\n",
       " 469,\n",
       " 4,\n",
       " 22,\n",
       " 71,\n",
       " 87,\n",
       " 12,\n",
       " 16,\n",
       " 43,\n",
       " 530,\n",
       " 38,\n",
       " 76,\n",
       " 15,\n",
       " 13,\n",
       " 1247,\n",
       " 4,\n",
       " 22,\n",
       " 17,\n",
       " 515,\n",
       " 17,\n",
       " 12,\n",
       " 16,\n",
       " 626,\n",
       " 18,\n",
       " 2,\n",
       " 5,\n",
       " 62,\n",
       " 386,\n",
       " 12,\n",
       " 8,\n",
       " 316,\n",
       " 8,\n",
       " 106,\n",
       " 5,\n",
       " 4,\n",
       " 2223,\n",
       " 5244,\n",
       " 16,\n",
       " 480,\n",
       " 66,\n",
       " 3785,\n",
       " 33,\n",
       " 4,\n",
       " 130,\n",
       " 12,\n",
       " 16,\n",
       " 38,\n",
       " 619,\n",
       " 5,\n",
       " 25,\n",
       " 124,\n",
       " 51,\n",
       " 36,\n",
       " 135,\n",
       " 48,\n",
       " 25,\n",
       " 1415,\n",
       " 33,\n",
       " 6,\n",
       " 22,\n",
       " 12,\n",
       " 215,\n",
       " 28,\n",
       " 77,\n",
       " 52,\n",
       " 5,\n",
       " 14,\n",
       " 407,\n",
       " 16,\n",
       " 82,\n",
       " 2,\n",
       " 8,\n",
       " 4,\n",
       " 107,\n",
       " 117,\n",
       " 5952,\n",
       " 15,\n",
       " 256,\n",
       " 4,\n",
       " 2,\n",
       " 7,\n",
       " 3766,\n",
       " 5,\n",
       " 723,\n",
       " 36,\n",
       " 71,\n",
       " 43,\n",
       " 530,\n",
       " 476,\n",
       " 26,\n",
       " 400,\n",
       " 317,\n",
       " 46,\n",
       " 7,\n",
       " 4,\n",
       " 2,\n",
       " 1029,\n",
       " 13,\n",
       " 104,\n",
       " 88,\n",
       " 4,\n",
       " 381,\n",
       " 15,\n",
       " 297,\n",
       " 98,\n",
       " 32,\n",
       " 2071,\n",
       " 56,\n",
       " 26,\n",
       " 141,\n",
       " 6,\n",
       " 194,\n",
       " 7486,\n",
       " 18,\n",
       " 4,\n",
       " 226,\n",
       " 22,\n",
       " 21,\n",
       " 134,\n",
       " 476,\n",
       " 26,\n",
       " 480,\n",
       " 5,\n",
       " 144,\n",
       " 30,\n",
       " 5535,\n",
       " 18,\n",
       " 51,\n",
       " 36,\n",
       " 28,\n",
       " 224,\n",
       " 92,\n",
       " 25,\n",
       " 104,\n",
       " 4,\n",
       " 226,\n",
       " 65,\n",
       " 16,\n",
       " 38,\n",
       " 1334,\n",
       " 88,\n",
       " 12,\n",
       " 16,\n",
       " 283,\n",
       " 5,\n",
       " 16,\n",
       " 4472,\n",
       " 113,\n",
       " 103,\n",
       " 32,\n",
       " 15,\n",
       " 16,\n",
       " 5345,\n",
       " 19,\n",
       " 178,\n",
       " 32]"
      ]
     },
     "execution_count": 3,
     "metadata": {},
     "output_type": "execute_result"
    }
   ],
   "source": [
    "train_data[0]"
   ]
  },
  {
   "cell_type": "code",
   "execution_count": 4,
   "metadata": {},
   "outputs": [
    {
     "data": {
      "text/plain": [
       "1"
      ]
     },
     "execution_count": 4,
     "metadata": {},
     "output_type": "execute_result"
    }
   ],
   "source": [
    "train_labels[0]"
   ]
  },
  {
   "cell_type": "code",
   "execution_count": 5,
   "metadata": {},
   "outputs": [
    {
     "data": {
      "text/plain": [
       "9999"
      ]
     },
     "execution_count": 5,
     "metadata": {},
     "output_type": "execute_result"
    }
   ],
   "source": [
    "max([max(sequence) for sequence in train_data])"
   ]
  },
  {
   "cell_type": "code",
   "execution_count": 6,
   "metadata": {},
   "outputs": [],
   "source": [
    "word_index = imdb.get_word_index()\n",
    "reverse_word_index = dict(\n",
    "[(value, key) for (key, value) in word_index.items()])\n",
    "decoded_review = ' '.join(\n",
    "[reverse_word_index.get(i - 3, '?') for i in train_data[10]])"
   ]
  },
  {
   "cell_type": "code",
   "execution_count": 7,
   "metadata": {},
   "outputs": [
    {
     "data": {
      "text/plain": [
       "88584"
      ]
     },
     "execution_count": 7,
     "metadata": {},
     "output_type": "execute_result"
    }
   ],
   "source": [
    "len(word_index)"
   ]
  },
  {
   "cell_type": "code",
   "execution_count": 23,
   "metadata": {},
   "outputs": [],
   "source": [
    "(train_data1, train_labels1), (test_data1, test_labels1) = imdb.load_data()\n",
    "\n",
    "decoded_review1 = ' '.join(\n",
    "[reverse_word_index.get(i-3, '?') for i in train_data1[10]])"
   ]
  },
  {
   "cell_type": "code",
   "execution_count": 7,
   "metadata": {},
   "outputs": [
    {
     "name": "stdout",
     "output_type": "stream",
     "text": [
      "Index:22\n",
      "Word: you\n"
     ]
    }
   ],
   "source": [
    "print('Index:' + str(word_index['you']) + '\\n' +\n",
    "'Word: ' + reverse_word_index[22])"
   ]
  },
  {
   "cell_type": "code",
   "execution_count": 24,
   "metadata": {},
   "outputs": [
    {
     "data": {
      "text/plain": [
       "\"? french horror cinema has seen something of a revival over the last couple of years with great films such as inside and switchblade romance bursting on to the scene maléfique preceded the revival just slightly but stands head and shoulders over most modern horror titles and is surely one of the best french horror films ever made maléfique was obviously shot on a low budget but this is made up for in far more ways than one by the originality of the film and this in turn is complimented by the excellent writing and acting that ensure the film is a winner the plot focuses on two main ideas prison and black magic the central character is a man named carrère sent to prison for fraud he is put in a cell with three others the quietly insane lassalle body building transvestite marcus and his retarded boyfriend daisy after a short while in the cell together they stumble upon a hiding place in the wall that contains an old journal after translating part of it they soon realise its magical powers and realise they may be able to use it to break through the prison walls br br black magic is a very interesting topic and i'm actually quite surprised that there aren't more films based on it as there's so much scope for things to do with it it's fair to say that maléfique makes the best of it's assets as despite it's restraints the film never actually feels restrained and manages to flow well throughout director eric valette provides a great atmosphere for the film the fact that most of it takes place inside the central prison cell ensures that the film feels very claustrophobic and this immensely benefits the central idea of the prisoners wanting to use magic to break out of the cell it's very easy to get behind them it's often said that the unknown is the thing that really frightens people and this film proves that as the director ensures that we can never really be sure of exactly what is round the corner and this helps to ensure that maléfique actually does manage to be quite frightening the film is memorable for a lot of reasons outside the central plot the characters are all very interesting in their own way and the fact that the book itself almost takes on its own character is very well done anyone worried that the film won't deliver by the end won't be disappointed either as the ending both makes sense and manages to be quite horrifying overall maléfique is a truly great horror film and one of the best of the decade highly recommended viewing\""
      ]
     },
     "execution_count": 24,
     "metadata": {},
     "output_type": "execute_result"
    }
   ],
   "source": [
    "decoded_review1"
   ]
  },
  {
   "cell_type": "code",
   "execution_count": 9,
   "metadata": {},
   "outputs": [],
   "source": [
    "import numpy as np\n",
    "\n",
    "def vectorize_sequences(sequences, dimension=10000):\n",
    "    results = np.zeros((len(sequences), dimension))\n",
    "    for i, sequence in enumerate(sequences):\n",
    "        results[i, sequence] = 1.\n",
    "    return results\n",
    "\n",
    "x_train = vectorize_sequences(train_data)\n",
    "x_test = vectorize_sequences(test_data)"
   ]
  },
  {
   "cell_type": "code",
   "execution_count": 10,
   "metadata": {},
   "outputs": [
    {
     "data": {
      "text/plain": [
       "array([0., 1., 1., ..., 0., 0., 0.])"
      ]
     },
     "execution_count": 10,
     "metadata": {},
     "output_type": "execute_result"
    }
   ],
   "source": [
    "x_train[0]"
   ]
  },
  {
   "cell_type": "code",
   "execution_count": 11,
   "metadata": {},
   "outputs": [],
   "source": [
    "y_train = np.asarray(train_labels).astype('float32')\n",
    "y_test = np.asarray(test_labels).astype('float32')"
   ]
  },
  {
   "cell_type": "code",
   "execution_count": 12,
   "metadata": {},
   "outputs": [],
   "source": [
    "%time\n",
    "from keras import models\n",
    "from keras import layers\n",
    "model = models.Sequential()\n",
    "model.add(layers.Dense(16, activation='relu', input_shape=(10000,)))\n",
    "model.add(layers.Dense(16, activation='relu'))\n",
    "model.add(layers.Dense(1, activation='sigmoid'))"
   ]
  },
  {
   "cell_type": "code",
   "execution_count": 14,
   "metadata": {},
   "outputs": [],
   "source": [
    "model_json = model.to_json()"
   ]
  },
  {
   "cell_type": "code",
   "execution_count": 15,
   "metadata": {},
   "outputs": [
    {
     "name": "stdout",
     "output_type": "stream",
     "text": [
      "Stored 'model_json' (str)\n"
     ]
    }
   ],
   "source": [
    "%store model_json"
   ]
  },
  {
   "cell_type": "code",
   "execution_count": 18,
   "metadata": {},
   "outputs": [],
   "source": [
    "from keras.models import model_from_json\n",
    "\n",
    "model1 = model_from_json(model_json)"
   ]
  },
  {
   "cell_type": "code",
   "execution_count": 19,
   "metadata": {},
   "outputs": [
    {
     "data": {
      "text/plain": [
       "<tensorflow.python.keras.engine.sequential.Sequential at 0x7f12e4307ad0>"
      ]
     },
     "execution_count": 19,
     "metadata": {},
     "output_type": "execute_result"
    }
   ],
   "source": [
    "model1"
   ]
  },
  {
   "cell_type": "code",
   "execution_count": 20,
   "metadata": {},
   "outputs": [
    {
     "data": {
      "text/plain": [
       "<tensorflow.python.keras.engine.sequential.Sequential at 0x7f120df7e850>"
      ]
     },
     "execution_count": 20,
     "metadata": {},
     "output_type": "execute_result"
    }
   ],
   "source": [
    "model"
   ]
  },
  {
   "cell_type": "code",
   "execution_count": 21,
   "metadata": {},
   "outputs": [
    {
     "data": {
      "text/plain": [
       "<tensorflow.python.keras.engine.sequential.Sequential at 0x7f120df7e850>"
      ]
     },
     "execution_count": 21,
     "metadata": {},
     "output_type": "execute_result"
    }
   ],
   "source": [
    "model"
   ]
  },
  {
   "cell_type": "code",
   "execution_count": 22,
   "metadata": {},
   "outputs": [],
   "source": [
    "model.compile(optimizer='rmsprop',\n",
    "loss='binary_crossentropy',\n",
    "metrics=['accuracy'])"
   ]
  },
  {
   "cell_type": "code",
   "execution_count": 23,
   "metadata": {},
   "outputs": [],
   "source": [
    "model1.compile(optimizer='rmsprop',\n",
    "loss='binary_crossentropy',\n",
    "metrics=['accuracy'])"
   ]
  },
  {
   "cell_type": "code",
   "execution_count": 24,
   "metadata": {},
   "outputs": [],
   "source": [
    "x_val = x_train[:10000]\n",
    "partial_x_train = x_train[10000:]"
   ]
  },
  {
   "cell_type": "code",
   "execution_count": 25,
   "metadata": {},
   "outputs": [],
   "source": [
    "y_val = y_train[:10000]\n",
    "partial_y_train = y_train[10000:]"
   ]
  },
  {
   "cell_type": "code",
   "execution_count": 26,
   "metadata": {},
   "outputs": [
    {
     "name": "stdout",
     "output_type": "stream",
     "text": [
      "CPU times: user 7 µs, sys: 0 ns, total: 7 µs\n",
      "Wall time: 14.8 µs\n",
      "Epoch 1/20\n",
      "30/30 [==============================] - 2s 56ms/step - loss: 0.5074 - acc: 0.8143 - val_loss: 0.3941 - val_acc: 0.8716\n",
      "Epoch 2/20\n",
      "30/30 [==============================] - 1s 40ms/step - loss: 0.3114 - acc: 0.9024 - val_loss: 0.3056 - val_acc: 0.8908\n",
      "Epoch 3/20\n",
      "30/30 [==============================] - 1s 40ms/step - loss: 0.2273 - acc: 0.9263 - val_loss: 0.2982 - val_acc: 0.8817\n",
      "Epoch 4/20\n",
      "30/30 [==============================] - 1s 43ms/step - loss: 0.1798 - acc: 0.9402 - val_loss: 0.2803 - val_acc: 0.8877\n",
      "Epoch 5/20\n",
      "30/30 [==============================] - 1s 49ms/step - loss: 0.1477 - acc: 0.9521 - val_loss: 0.2863 - val_acc: 0.8835\n",
      "Epoch 6/20\n",
      "30/30 [==============================] - 1s 45ms/step - loss: 0.1215 - acc: 0.9629 - val_loss: 0.3019 - val_acc: 0.8840\n",
      "Epoch 7/20\n",
      "30/30 [==============================] - 1s 42ms/step - loss: 0.1019 - acc: 0.9691 - val_loss: 0.3052 - val_acc: 0.8841\n",
      "Epoch 8/20\n",
      "30/30 [==============================] - 1s 44ms/step - loss: 0.0857 - acc: 0.9752 - val_loss: 0.3451 - val_acc: 0.8785\n",
      "Epoch 9/20\n",
      "30/30 [==============================] - 1s 47ms/step - loss: 0.0685 - acc: 0.9811 - val_loss: 0.3482 - val_acc: 0.8814\n",
      "Epoch 10/20\n",
      "30/30 [==============================] - 1s 46ms/step - loss: 0.0587 - acc: 0.9841 - val_loss: 0.3703 - val_acc: 0.8793\n",
      "Epoch 11/20\n",
      "30/30 [==============================] - 1s 46ms/step - loss: 0.0456 - acc: 0.9889 - val_loss: 0.4012 - val_acc: 0.8775\n",
      "Epoch 12/20\n",
      "30/30 [==============================] - 1s 42ms/step - loss: 0.0406 - acc: 0.9908 - val_loss: 0.4600 - val_acc: 0.8650\n",
      "Epoch 13/20\n",
      "30/30 [==============================] - 1s 41ms/step - loss: 0.0297 - acc: 0.9941 - val_loss: 0.4581 - val_acc: 0.8730\n",
      "Epoch 14/20\n",
      "30/30 [==============================] - 1s 44ms/step - loss: 0.0259 - acc: 0.9951 - val_loss: 0.4858 - val_acc: 0.8730\n",
      "Epoch 15/20\n",
      "30/30 [==============================] - 1s 45ms/step - loss: 0.0207 - acc: 0.9957 - val_loss: 0.5170 - val_acc: 0.8714\n",
      "Epoch 16/20\n",
      "30/30 [==============================] - 1s 48ms/step - loss: 0.0174 - acc: 0.9968 - val_loss: 0.5534 - val_acc: 0.8689\n",
      "Epoch 17/20\n",
      "30/30 [==============================] - 1s 47ms/step - loss: 0.0115 - acc: 0.9989 - val_loss: 0.5906 - val_acc: 0.8674\n",
      "Epoch 18/20\n",
      "30/30 [==============================] - 18s 586ms/step - loss: 0.0104 - acc: 0.9993 - val_loss: 0.6147 - val_acc: 0.8678\n",
      "Epoch 19/20\n",
      "30/30 [==============================] - 1s 44ms/step - loss: 0.0080 - acc: 0.9995 - val_loss: 0.6589 - val_acc: 0.8657\n",
      "Epoch 20/20\n",
      "30/30 [==============================] - 1s 39ms/step - loss: 0.0048 - acc: 0.9998 - val_loss: 0.7196 - val_acc: 0.8625\n"
     ]
    }
   ],
   "source": [
    "%time\n",
    "model.compile(optimizer='rmsprop',\n",
    "    loss='binary_crossentropy',\n",
    "    metrics=['acc'])\n",
    "history = model.fit(partial_x_train,\n",
    "    partial_y_train,\n",
    "    epochs=20,\n",
    "    batch_size=512,\n",
    "    validation_data=(x_val, y_val))"
   ]
  },
  {
   "cell_type": "code",
   "execution_count": 27,
   "metadata": {},
   "outputs": [],
   "source": [
    "history_dict = history.history"
   ]
  },
  {
   "cell_type": "code",
   "execution_count": 28,
   "metadata": {},
   "outputs": [
    {
     "data": {
      "text/plain": [
       "dict_keys(['loss', 'acc', 'val_loss', 'val_acc'])"
      ]
     },
     "execution_count": 28,
     "metadata": {},
     "output_type": "execute_result"
    }
   ],
   "source": [
    "history_dict.keys()"
   ]
  },
  {
   "cell_type": "code",
   "execution_count": 29,
   "metadata": {},
   "outputs": [
    {
     "data": {
      "text/plain": [
       "[0.507388710975647,\n",
       " 0.3114309012889862,\n",
       " 0.22725968062877655,\n",
       " 0.1798059046268463,\n",
       " 0.14772814512252808,\n",
       " 0.12154563516378403,\n",
       " 0.10191794484853745,\n",
       " 0.08571851253509521,\n",
       " 0.0684610903263092,\n",
       " 0.05869603529572487,\n",
       " 0.045638397336006165,\n",
       " 0.04062031954526901,\n",
       " 0.029698649421334267,\n",
       " 0.02587774209678173,\n",
       " 0.02074485830962658,\n",
       " 0.017427334561944008,\n",
       " 0.011508666910231113,\n",
       " 0.010393871925771236,\n",
       " 0.007953597232699394,\n",
       " 0.004796254448592663]"
      ]
     },
     "execution_count": 29,
     "metadata": {},
     "output_type": "execute_result"
    }
   ],
   "source": [
    "history_dict['loss']"
   ]
  },
  {
   "cell_type": "code",
   "execution_count": 30,
   "metadata": {},
   "outputs": [
    {
     "data": {
      "text/plain": [
       "[0.8142666816711426,\n",
       " 0.902400016784668,\n",
       " 0.9263333082199097,\n",
       " 0.9401999711990356,\n",
       " 0.9520666599273682,\n",
       " 0.9628666639328003,\n",
       " 0.9691333174705505,\n",
       " 0.9751999974250793,\n",
       " 0.9811333417892456,\n",
       " 0.9841333627700806,\n",
       " 0.9888666868209839,\n",
       " 0.9908000230789185,\n",
       " 0.9940666556358337,\n",
       " 0.9950666427612305,\n",
       " 0.9957333207130432,\n",
       " 0.9968000054359436,\n",
       " 0.9989333152770996,\n",
       " 0.9992666840553284,\n",
       " 0.9994666576385498,\n",
       " 0.9998000264167786]"
      ]
     },
     "execution_count": 30,
     "metadata": {},
     "output_type": "execute_result"
    }
   ],
   "source": [
    "history_dict['acc']"
   ]
  },
  {
   "cell_type": "code",
   "execution_count": 31,
   "metadata": {},
   "outputs": [
    {
     "data": {
      "text/plain": [
       "[0.8715999722480774,\n",
       " 0.8907999992370605,\n",
       " 0.8816999793052673,\n",
       " 0.8877000212669373,\n",
       " 0.8834999799728394,\n",
       " 0.8840000033378601,\n",
       " 0.8841000199317932,\n",
       " 0.8784999847412109,\n",
       " 0.8813999891281128,\n",
       " 0.8792999982833862,\n",
       " 0.8774999976158142,\n",
       " 0.8650000095367432,\n",
       " 0.8730000257492065,\n",
       " 0.8730000257492065,\n",
       " 0.871399998664856,\n",
       " 0.8689000010490417,\n",
       " 0.8673999905586243,\n",
       " 0.8677999973297119,\n",
       " 0.8657000064849854,\n",
       " 0.862500011920929]"
      ]
     },
     "execution_count": 31,
     "metadata": {},
     "output_type": "execute_result"
    }
   ],
   "source": [
    "history_dict['val_acc']"
   ]
  },
  {
   "cell_type": "code",
   "execution_count": 33,
   "metadata": {},
   "outputs": [
    {
     "data": {
      "text/plain": [
       "[0.39406606554985046,\n",
       " 0.3056005537509918,\n",
       " 0.29816585779190063,\n",
       " 0.28027263283729553,\n",
       " 0.2863292098045349,\n",
       " 0.301932156085968,\n",
       " 0.30518677830696106,\n",
       " 0.34512048959732056,\n",
       " 0.348164439201355,\n",
       " 0.3703230619430542,\n",
       " 0.40124326944351196,\n",
       " 0.459956556558609,\n",
       " 0.4581405222415924,\n",
       " 0.48581308126449585,\n",
       " 0.516986072063446,\n",
       " 0.5533846616744995,\n",
       " 0.5905640721321106,\n",
       " 0.6146909594535828,\n",
       " 0.6589166522026062,\n",
       " 0.7195543646812439]"
      ]
     },
     "execution_count": 33,
     "metadata": {},
     "output_type": "execute_result"
    }
   ],
   "source": [
    "history_dict['val_loss']"
   ]
  },
  {
   "cell_type": "code",
   "execution_count": 35,
   "metadata": {},
   "outputs": [
    {
     "data": {
      "image/png": "[encoded data removed]",
      "text/plain": [
       "<Figure size 432x288 with 1 Axes>"
      ]
     },
     "metadata": {
      "needs_background": "light"
     },
     "output_type": "display_data"
    }
   ],
   "source": [
    "import matplotlib.pyplot as plt\n",
    "\n",
    "history_dict = history.history\n",
    "loss_values = history_dict['loss']\n",
    "val_loss_values = history_dict['val_loss']\n",
    "epochs = range(1, len(history_dict['acc']) + 1)\n",
    "\n",
    "plt.plot(epochs, loss_values, 'bo', label='Training loss')\n",
    "plt.plot(epochs, val_loss_values, 'b', label='Validation loss')\n",
    "plt.title('Training and validation loss')\n",
    "plt.xlabel('Epochs')\n",
    "plt.ylabel('Loss')\n",
    "plt.legend()\n",
    "plt.show()"
   ]
  },
  {
   "cell_type": "code",
   "execution_count": 37,
   "metadata": {
    "scrolled": true
   },
   "outputs": [
    {
     "data": {
      "image/png": "[encoded data removed]",
      "text/plain": [
       "<Figure size 432x288 with 1 Axes>"
      ]
     },
     "metadata": {
      "needs_background": "light"
     },
     "output_type": "display_data"
    }
   ],
   "source": [
    "acc_values = history_dict['acc']\n",
    "val_acc_values = history_dict['val_acc']\n",
    "plt.plot(epochs, history_dict['acc'], 'bo', label='Training acc')\n",
    "plt.plot(epochs, history_dict['val_acc'], 'b', label='Validation acc')\n",
    "plt.title('Training and validation accuracy')\n",
    "plt.xlabel('Epochs')\n",
    "plt.ylabel('Loss')\n",
    "plt.legend()\n",
    "plt.show()"
   ]
  },
  {
   "cell_type": "markdown",
   "metadata": {},
   "source": [
    "OVERFITTING, LET'S TRAIN WITH 3 EPOCHS ITERATIONS"
   ]
  },
  {
   "cell_type": "code",
   "execution_count": 38,
   "metadata": {},
   "outputs": [
    {
     "name": "stdout",
     "output_type": "stream",
     "text": [
      "Epoch 1/4\n",
      "49/49 [==============================] - 1s 20ms/step - loss: 0.4561 - accuracy: 0.8134\n",
      "Epoch 2/4\n",
      "49/49 [==============================] - 1s 20ms/step - loss: 0.2611 - accuracy: 0.9105\n",
      "Epoch 3/4\n",
      "49/49 [==============================] - 1s 20ms/step - loss: 0.2011 - accuracy: 0.9279\n",
      "Epoch 4/4\n",
      "49/49 [==============================] - 1s 20ms/step - loss: 0.1712 - accuracy: 0.9399\n",
      "782/782 [==============================] - 3s 4ms/step - loss: 0.3016 - accuracy: 0.8806\n"
     ]
    }
   ],
   "source": [
    "model = models.Sequential()\n",
    "model.add(layers.Dense(16, activation='relu', input_shape=(10000,)))\n",
    "model.add(layers.Dense(16, activation='relu'))\n",
    "model.add(layers.Dense(1, activation='sigmoid'))\n",
    "model.compile(optimizer='rmsprop',\n",
    "loss='binary_crossentropy',\n",
    "metrics=['accuracy'])\n",
    "model.fit(x_train, y_train, epochs=4, batch_size=512)\n",
    "results = model.evaluate(x_test, y_test)"
   ]
  },
  {
   "cell_type": "code",
   "execution_count": 39,
   "metadata": {},
   "outputs": [
    {
     "data": {
      "text/plain": [
       "[0.3016408085823059, 0.8805599808692932]"
      ]
     },
     "execution_count": 39,
     "metadata": {},
     "output_type": "execute_result"
    }
   ],
   "source": [
    "results"
   ]
  },
  {
   "cell_type": "code",
   "execution_count": 40,
   "metadata": {},
   "outputs": [
    {
     "data": {
      "text/plain": [
       "array([[0.18258789],\n",
       "       [0.9993364 ],\n",
       "       [0.66790813],\n",
       "       ...,\n",
       "       [0.09088755],\n",
       "       [0.04207936],\n",
       "       [0.45591158]], dtype=float32)"
      ]
     },
     "execution_count": 40,
     "metadata": {},
     "output_type": "execute_result"
    }
   ],
   "source": [
    "model.predict(x_test)"
   ]
  },
  {
   "cell_type": "markdown",
   "metadata": {},
   "source": [
    "# **Hold Out Validation**"
   ]
  },
  {
   "cell_type": "code",
   "execution_count": null,
   "metadata": {},
   "outputs": [],
   "source": [
    "'''\n",
    "num_validation_samples = 10000\n",
    "np.random.shuffle(data)\n",
    "validation_data = data[:num_validation_samples]\n",
    "data = data[num_validation_samples:]\n",
    "training_data = data[:]\n",
    "model = get_model()\n",
    "model.train(training_data)\n",
    "validation_score = model.evaluate(validation_data)\n",
    "# At this point you can tune your model,\n",
    "# retrain it, evaluate it, tune it again...\n",
    "model = get_model()\n",
    "model.train(np.concatenate([training_data,\n",
    "validation_data]))\n",
    "test_score = model.evaluate(test_data)\n",
    "'''"
   ]
  },
  {
   "cell_type": "markdown",
   "metadata": {},
   "source": [
    "# **K-fold Cross Validation**"
   ]
  },
  {
   "cell_type": "code",
   "execution_count": null,
   "metadata": {},
   "outputs": [],
   "source": [
    "'''\n",
    "k = 4\n",
    "num_validation_samples = len(data) // k\n",
    "\n",
    "np.random.shuffle(data)\n",
    "\n",
    "validation_scores = []\n",
    "\n",
    "for fold in range(k):\n",
    "    validation_data = data[num_validation_samples * fold:\n",
    "        num_validation_samples * (fold + 1)]\n",
    "    training_data = data[:num_validation_samples * fold] +\n",
    "        data[num_validation_samples * (fold + 1):]\n",
    "    model = get_model()\n",
    "    model.train(training_data)\n",
    "    validation_score = model.evaluate(validation_data)\n",
    "    validation_scores.append(validation_score)\n",
    "\n",
    "validation_score = np.average(validation_scores)\n",
    "model = get_model()\n",
    "model.train(data)\n",
    "test_score = model.evaluate(test_data)\n",
    "'''"
   ]
  },
  {
   "cell_type": "markdown",
   "metadata": {},
   "source": [
    "# **Iterated K-Fold Validation with Shuffling**\n",
    "This one is for situations in which you have relatively little data available and you need\n",
    "to evaluate your model as precisely as possible. I’ve found it to be extremely helpful in\n",
    "Kaggle competitions. It consists of applying K -fold validation multiple times, shuffling\n",
    "the data every time before splitting it K ways. The final score is the average of the\n",
    "scores obtained at each run of K -fold validation. Note that you end up training and\n",
    "evaluating P × K models (where P is the number of iterations you use), which can very\n",
    "expensive."
   ]
  },
  {
   "cell_type": "markdown",
   "metadata": {},
   "source": [
    "# OVERFITTING AND UNDERFITTING RESOLUTIONS\n",
    "## Network size modifications"
   ]
  },
  {
   "cell_type": "code",
   "execution_count": 2,
   "metadata": {},
   "outputs": [],
   "source": [
    "from keras.datasets import imdb\n",
    "(train_data, train_labels), (test_data, test_labels) = imdb.load_data(\n",
    "num_words=10000)"
   ]
  },
  {
   "cell_type": "code",
   "execution_count": 3,
   "metadata": {},
   "outputs": [],
   "source": [
    "word_index = imdb.get_word_index()\n",
    "reverse_word_index = dict(\n",
    "[(value, key) for (key, value) in word_index.items()])\n",
    "decoded_review = ' '.join(\n",
    "[reverse_word_index.get(i - 3, '?') for i in train_data[10]])"
   ]
  },
  {
   "cell_type": "code",
   "execution_count": 4,
   "metadata": {},
   "outputs": [],
   "source": [
    "import numpy as np\n",
    "\n",
    "def vectorize_sequences(sequences, dimension=10000):\n",
    "    results = np.zeros((len(sequences), dimension))\n",
    "    for i, sequence in enumerate(sequences):\n",
    "        results[i, sequence] = 1.\n",
    "    return results\n",
    "\n",
    "x_train = vectorize_sequences(train_data)\n",
    "x_test = vectorize_sequences(test_data)"
   ]
  },
  {
   "cell_type": "code",
   "execution_count": 5,
   "metadata": {},
   "outputs": [],
   "source": [
    "y_train = np.asarray(train_labels).astype('float32')\n",
    "y_test = np.asarray(test_labels).astype('float32')"
   ]
  },
  {
   "cell_type": "markdown",
   "metadata": {},
   "source": [
    "### Original model"
   ]
  },
  {
   "cell_type": "code",
   "execution_count": 6,
   "metadata": {},
   "outputs": [
    {
     "name": "stdout",
     "output_type": "stream",
     "text": [
      "CPU times: user 8 µs, sys: 1 µs, total: 9 µs\n",
      "Wall time: 17.9 µs\n"
     ]
    }
   ],
   "source": [
    "%time\n",
    "from keras import models\n",
    "from keras import layers\n",
    "model = models.Sequential()\n",
    "model.add(layers.Dense(16, activation='relu', input_shape=(10000,)))\n",
    "model.add(layers.Dense(16, activation='relu'))\n",
    "model.add(layers.Dense(1, activation='sigmoid'))"
   ]
  },
  {
   "cell_type": "markdown",
   "metadata": {},
   "source": [
    "### Model with a smaller layer size"
   ]
  },
  {
   "cell_type": "code",
   "execution_count": 8,
   "metadata": {},
   "outputs": [
    {
     "name": "stdout",
     "output_type": "stream",
     "text": [
      "CPU times: user 5 µs, sys: 1 µs, total: 6 µs\n",
      "Wall time: 10.5 µs\n"
     ]
    }
   ],
   "source": [
    "%time\n",
    "smaller_model = models.Sequential()\n",
    "smaller_model.add(layers.Dense(4, activation='relu', input_shape=(10000,)))\n",
    "smaller_model.add(layers.Dense(4, activation='relu'))\n",
    "smaller_model.add(layers.Dense(1, activation='sigmoid'))"
   ]
  },
  {
   "cell_type": "markdown",
   "metadata": {},
   "source": [
    "### Model with a bigger layer size"
   ]
  },
  {
   "cell_type": "code",
   "execution_count": 7,
   "metadata": {},
   "outputs": [],
   "source": [
    "bigger_model = models.Sequential()\n",
    "bigger_model.add(layers.Dense(512, activation='relu', input_shape=(10000,)))\n",
    "bigger_model.add(layers.Dense(512, activation='relu'))\n",
    "bigger_model.add(layers.Dense(1, activation='sigmoid'))"
   ]
  },
  {
   "cell_type": "markdown",
   "metadata": {},
   "source": [
    "## Evaluating the three models"
   ]
  },
  {
   "cell_type": "code",
   "execution_count": 9,
   "metadata": {},
   "outputs": [],
   "source": [
    "x_val = x_train[:10000]\n",
    "partial_x_train = x_train[10000:]"
   ]
  },
  {
   "cell_type": "code",
   "execution_count": 10,
   "metadata": {},
   "outputs": [],
   "source": [
    "y_val = y_train[:10000]\n",
    "partial_y_train = y_train[10000:]"
   ]
  },
  {
   "cell_type": "code",
   "execution_count": 11,
   "metadata": {},
   "outputs": [
    {
     "name": "stdout",
     "output_type": "stream",
     "text": [
      "CPU times: user 4 µs, sys: 1 µs, total: 5 µs\n",
      "Wall time: 8.11 µs\n",
      "Epoch 1/20\n",
      "30/30 [==============================] - 1s 49ms/step - loss: 0.4958 - accuracy: 0.7865 - val_loss: 0.3626 - val_accuracy: 0.8749\n",
      "Epoch 2/20\n",
      "30/30 [==============================] - 1s 30ms/step - loss: 0.2841 - accuracy: 0.9088 - val_loss: 0.2958 - val_accuracy: 0.8845\n",
      "Epoch 3/20\n",
      "30/30 [==============================] - 1s 29ms/step - loss: 0.2148 - accuracy: 0.9271 - val_loss: 0.2757 - val_accuracy: 0.8909\n",
      "Epoch 4/20\n",
      "30/30 [==============================] - 1s 29ms/step - loss: 0.1636 - accuracy: 0.9486 - val_loss: 0.2755 - val_accuracy: 0.8899\n",
      "Epoch 5/20\n",
      "30/30 [==============================] - 1s 29ms/step - loss: 0.1355 - accuracy: 0.9560 - val_loss: 0.2855 - val_accuracy: 0.8885\n",
      "Epoch 6/20\n",
      "30/30 [==============================] - 1s 31ms/step - loss: 0.1132 - accuracy: 0.9657 - val_loss: 0.3197 - val_accuracy: 0.8786\n",
      "Epoch 7/20\n",
      "30/30 [==============================] - 1s 29ms/step - loss: 0.0931 - accuracy: 0.9730 - val_loss: 0.3194 - val_accuracy: 0.8813\n",
      "Epoch 8/20\n",
      "30/30 [==============================] - 1s 29ms/step - loss: 0.0788 - accuracy: 0.9777 - val_loss: 0.3501 - val_accuracy: 0.8767\n",
      "Epoch 9/20\n",
      "30/30 [==============================] - 1s 30ms/step - loss: 0.0611 - accuracy: 0.9838 - val_loss: 0.3631 - val_accuracy: 0.8783\n",
      "Epoch 10/20\n",
      "30/30 [==============================] - 1s 29ms/step - loss: 0.0568 - accuracy: 0.9845 - val_loss: 0.3913 - val_accuracy: 0.8743\n",
      "Epoch 11/20\n",
      "30/30 [==============================] - 1s 29ms/step - loss: 0.0423 - accuracy: 0.9895 - val_loss: 0.4169 - val_accuracy: 0.8787\n",
      "Epoch 12/20\n",
      "30/30 [==============================] - 1s 31ms/step - loss: 0.0352 - accuracy: 0.9925 - val_loss: 0.4792 - val_accuracy: 0.8640\n",
      "Epoch 13/20\n",
      "30/30 [==============================] - 1s 30ms/step - loss: 0.0282 - accuracy: 0.9949 - val_loss: 0.4905 - val_accuracy: 0.8669\n",
      "Epoch 14/20\n",
      "30/30 [==============================] - 1s 30ms/step - loss: 0.0233 - accuracy: 0.9955 - val_loss: 0.5069 - val_accuracy: 0.8732\n",
      "Epoch 15/20\n",
      "30/30 [==============================] - 1s 32ms/step - loss: 0.0185 - accuracy: 0.9975 - val_loss: 0.5394 - val_accuracy: 0.8717\n",
      "Epoch 16/20\n",
      "30/30 [==============================] - 1s 31ms/step - loss: 0.0166 - accuracy: 0.9965 - val_loss: 0.5745 - val_accuracy: 0.8690\n",
      "Epoch 17/20\n",
      "30/30 [==============================] - 1s 30ms/step - loss: 0.0131 - accuracy: 0.9975 - val_loss: 0.6048 - val_accuracy: 0.8662\n",
      "Epoch 18/20\n",
      "30/30 [==============================] - 1s 30ms/step - loss: 0.0069 - accuracy: 0.9997 - val_loss: 0.6792 - val_accuracy: 0.8674\n",
      "Epoch 19/20\n",
      "30/30 [==============================] - 1s 29ms/step - loss: 0.0102 - accuracy: 0.9978 - val_loss: 0.6821 - val_accuracy: 0.8663\n",
      "Epoch 20/20\n",
      "30/30 [==============================] - 1s 29ms/step - loss: 0.0039 - accuracy: 0.9998 - val_loss: 0.7129 - val_accuracy: 0.8659\n"
     ]
    }
   ],
   "source": [
    "%time\n",
    "model.compile(optimizer='rmsprop',\n",
    "    loss='binary_crossentropy',\n",
    "    metrics=['accuracy'])\n",
    "history = model.fit(partial_x_train,\n",
    "    partial_y_train,\n",
    "    epochs=20,\n",
    "    batch_size=512,\n",
    "    validation_data=(x_val, y_val))"
   ]
  },
  {
   "cell_type": "code",
   "execution_count": 12,
   "metadata": {},
   "outputs": [],
   "source": [
    "history_dict = history.history"
   ]
  },
  {
   "cell_type": "code",
   "execution_count": 13,
   "metadata": {},
   "outputs": [
    {
     "data": {
      "text/plain": [
       "dict_keys(['loss', 'accuracy', 'val_loss', 'val_accuracy'])"
      ]
     },
     "execution_count": 13,
     "metadata": {},
     "output_type": "execute_result"
    }
   ],
   "source": [
    "history_dict.keys()"
   ]
  },
  {
   "cell_type": "code",
   "execution_count": 14,
   "metadata": {},
   "outputs": [
    {
     "name": "stdout",
     "output_type": "stream",
     "text": [
      "CPU times: user 20 µs, sys: 4 µs, total: 24 µs\n",
      "Wall time: 42.7 µs\n",
      "Epoch 1/20\n",
      "30/30 [==============================] - 1s 32ms/step - loss: 0.6107 - accuracy: 0.6424 - val_loss: 0.5612 - val_accuracy: 0.7210\n",
      "Epoch 2/20\n",
      "30/30 [==============================] - 1s 29ms/step - loss: 0.5140 - accuracy: 0.8031 - val_loss: 0.5119 - val_accuracy: 0.8150\n",
      "Epoch 3/20\n",
      "30/30 [==============================] - 1s 28ms/step - loss: 0.4635 - accuracy: 0.8644 - val_loss: 0.4828 - val_accuracy: 0.8683\n",
      "Epoch 4/20\n",
      "30/30 [==============================] - 1s 30ms/step - loss: 0.4265 - accuracy: 0.8995 - val_loss: 0.4607 - val_accuracy: 0.8686\n",
      "Epoch 5/20\n",
      "30/30 [==============================] - 1s 29ms/step - loss: 0.3961 - accuracy: 0.9204 - val_loss: 0.4573 - val_accuracy: 0.8456\n",
      "Epoch 6/20\n",
      "30/30 [==============================] - 1s 30ms/step - loss: 0.3707 - accuracy: 0.9342 - val_loss: 0.4337 - val_accuracy: 0.8784\n",
      "Epoch 7/20\n",
      "30/30 [==============================] - 1s 30ms/step - loss: 0.3475 - accuracy: 0.9478 - val_loss: 0.4242 - val_accuracy: 0.8815\n",
      "Epoch 8/20\n",
      "30/30 [==============================] - 1s 29ms/step - loss: 0.3252 - accuracy: 0.9565 - val_loss: 0.4361 - val_accuracy: 0.8648\n",
      "Epoch 9/20\n",
      "30/30 [==============================] - 1s 28ms/step - loss: 0.3043 - accuracy: 0.9625 - val_loss: 0.4369 - val_accuracy: 0.8651\n",
      "Epoch 10/20\n",
      "30/30 [==============================] - 1s 28ms/step - loss: 0.2868 - accuracy: 0.9681 - val_loss: 0.4186 - val_accuracy: 0.8723\n",
      "Epoch 11/20\n",
      "30/30 [==============================] - 1s 28ms/step - loss: 0.2681 - accuracy: 0.9729 - val_loss: 0.4208 - val_accuracy: 0.8703\n",
      "Epoch 12/20\n",
      "30/30 [==============================] - 1s 29ms/step - loss: 0.2508 - accuracy: 0.9782 - val_loss: 0.4193 - val_accuracy: 0.8709\n",
      "Epoch 13/20\n",
      "30/30 [==============================] - 2s 53ms/step - loss: 0.2345 - accuracy: 0.9809 - val_loss: 0.4278 - val_accuracy: 0.8667\n",
      "Epoch 14/20\n",
      "30/30 [==============================] - 1s 30ms/step - loss: 0.2176 - accuracy: 0.9835 - val_loss: 0.4375 - val_accuracy: 0.8633\n",
      "Epoch 15/20\n",
      "30/30 [==============================] - 1s 29ms/step - loss: 0.2010 - accuracy: 0.9857 - val_loss: 0.4536 - val_accuracy: 0.8629\n",
      "Epoch 16/20\n",
      "30/30 [==============================] - 1s 29ms/step - loss: 0.1866 - accuracy: 0.9873 - val_loss: 0.4437 - val_accuracy: 0.8649\n",
      "Epoch 17/20\n",
      "30/30 [==============================] - 1s 29ms/step - loss: 0.1706 - accuracy: 0.9884 - val_loss: 0.4365 - val_accuracy: 0.8672\n",
      "Epoch 18/20\n",
      "30/30 [==============================] - 1s 29ms/step - loss: 0.1549 - accuracy: 0.9893 - val_loss: 0.4453 - val_accuracy: 0.8658\n",
      "Epoch 19/20\n",
      "30/30 [==============================] - 1s 29ms/step - loss: 0.1388 - accuracy: 0.9903 - val_loss: 0.4565 - val_accuracy: 0.8647\n",
      "Epoch 20/20\n",
      "30/30 [==============================] - 1s 28ms/step - loss: 0.1243 - accuracy: 0.9911 - val_loss: 0.4408 - val_accuracy: 0.8664\n"
     ]
    }
   ],
   "source": [
    "%time\n",
    "smaller_model.compile(optimizer='rmsprop',\n",
    "    loss='binary_crossentropy',\n",
    "    metrics=['accuracy'])\n",
    "smaller_history = smaller_model.fit(partial_x_train,\n",
    "    partial_y_train,\n",
    "    epochs=20,\n",
    "    batch_size=512,\n",
    "    validation_data=(x_val, y_val))"
   ]
  },
  {
   "cell_type": "code",
   "execution_count": 15,
   "metadata": {},
   "outputs": [],
   "source": [
    "smaller_history_dict = smaller_history.history"
   ]
  },
  {
   "cell_type": "code",
   "execution_count": 16,
   "metadata": {
    "scrolled": true
   },
   "outputs": [
    {
     "data": {
      "text/plain": [
       "dict_keys(['loss', 'accuracy', 'val_loss', 'val_accuracy'])"
      ]
     },
     "execution_count": 16,
     "metadata": {},
     "output_type": "execute_result"
    }
   ],
   "source": [
    "smaller_history_dict.keys()"
   ]
  },
  {
   "cell_type": "code",
   "execution_count": 17,
   "metadata": {},
   "outputs": [
    {
     "name": "stdout",
     "output_type": "stream",
     "text": [
      "CPU times: user 4 µs, sys: 1 µs, total: 5 µs\n",
      "Wall time: 13.6 µs\n",
      "Epoch 1/20\n",
      "30/30 [==============================] - 5s 159ms/step - loss: 0.5433 - accuracy: 0.7615 - val_loss: 0.3468 - val_accuracy: 0.8557\n",
      "Epoch 2/20\n",
      "30/30 [==============================] - 5s 159ms/step - loss: 0.2469 - accuracy: 0.9045 - val_loss: 0.2863 - val_accuracy: 0.8839\n",
      "Epoch 3/20\n",
      "30/30 [==============================] - 5s 160ms/step - loss: 0.1473 - accuracy: 0.9439 - val_loss: 0.4135 - val_accuracy: 0.8617\n",
      "Epoch 4/20\n",
      "30/30 [==============================] - 5s 157ms/step - loss: 0.0837 - accuracy: 0.9730 - val_loss: 0.4215 - val_accuracy: 0.8789\n",
      "Epoch 5/20\n",
      "30/30 [==============================] - 5s 158ms/step - loss: 0.0988 - accuracy: 0.9760 - val_loss: 0.3352 - val_accuracy: 0.8865\n",
      "Epoch 6/20\n",
      "30/30 [==============================] - 5s 157ms/step - loss: 0.0052 - accuracy: 0.9995 - val_loss: 0.4918 - val_accuracy: 0.8863\n",
      "Epoch 7/20\n",
      "30/30 [==============================] - 5s 158ms/step - loss: 8.3394e-04 - accuracy: 0.9999 - val_loss: 0.5827 - val_accuracy: 0.8873\n",
      "Epoch 8/20\n",
      "30/30 [==============================] - 24s 798ms/step - loss: 1.1906e-04 - accuracy: 1.0000 - val_loss: 0.7180 - val_accuracy: 0.8861\n",
      "Epoch 9/20\n",
      "30/30 [==============================] - 26s 855ms/step - loss: 1.7597e-05 - accuracy: 1.0000 - val_loss: 0.8157 - val_accuracy: 0.8872\n",
      "Epoch 10/20\n",
      "30/30 [==============================] - 24s 791ms/step - loss: 3.9139e-06 - accuracy: 1.0000 - val_loss: 0.9139 - val_accuracy: 0.8867\n",
      "Epoch 11/20\n",
      "30/30 [==============================] - 30s 991ms/step - loss: 9.6774e-07 - accuracy: 1.0000 - val_loss: 0.9926 - val_accuracy: 0.8860\n",
      "Epoch 12/20\n",
      "30/30 [==============================] - 6s 196ms/step - loss: 3.1332e-07 - accuracy: 1.0000 - val_loss: 1.0765 - val_accuracy: 0.8861\n",
      "Epoch 13/20\n",
      "30/30 [==============================] - 6s 190ms/step - loss: 1.0513e-07 - accuracy: 1.0000 - val_loss: 1.1395 - val_accuracy: 0.8862\n",
      "Epoch 14/20\n",
      "30/30 [==============================] - 6s 211ms/step - loss: 4.7272e-08 - accuracy: 1.0000 - val_loss: 1.1891 - val_accuracy: 0.8862\n",
      "Epoch 15/20\n",
      "30/30 [==============================] - 6s 198ms/step - loss: 2.6763e-08 - accuracy: 1.0000 - val_loss: 1.2203 - val_accuracy: 0.8860\n",
      "Epoch 16/20\n",
      "30/30 [==============================] - 6s 200ms/step - loss: 1.8282e-08 - accuracy: 1.0000 - val_loss: 1.2423 - val_accuracy: 0.8859\n",
      "Epoch 17/20\n",
      "30/30 [==============================] - 6s 206ms/step - loss: 1.3776e-08 - accuracy: 1.0000 - val_loss: 1.2600 - val_accuracy: 0.8860\n",
      "Epoch 18/20\n",
      "30/30 [==============================] - 6s 206ms/step - loss: 1.1200e-08 - accuracy: 1.0000 - val_loss: 1.2727 - val_accuracy: 0.8860\n",
      "Epoch 19/20\n",
      "30/30 [==============================] - 5s 167ms/step - loss: 9.2049e-09 - accuracy: 1.0000 - val_loss: 1.2840 - val_accuracy: 0.8859\n",
      "Epoch 20/20\n",
      "30/30 [==============================] - 6s 185ms/step - loss: 7.9284e-09 - accuracy: 1.0000 - val_loss: 1.2938 - val_accuracy: 0.8859\n"
     ]
    }
   ],
   "source": [
    "%time\n",
    "bigger_model.compile(optimizer='rmsprop',\n",
    "    loss='binary_crossentropy',\n",
    "    metrics=['accuracy'])\n",
    "bigger_history = bigger_model.fit(partial_x_train,\n",
    "    partial_y_train,\n",
    "    epochs=20,\n",
    "    batch_size=512,\n",
    "    validation_data=(x_val, y_val))"
   ]
  },
  {
   "cell_type": "code",
   "execution_count": 18,
   "metadata": {},
   "outputs": [],
   "source": [
    "bigger_history_dict = bigger_history.history"
   ]
  },
  {
   "cell_type": "code",
   "execution_count": 19,
   "metadata": {},
   "outputs": [
    {
     "data": {
      "text/plain": [
       "dict_keys(['loss', 'accuracy', 'val_loss', 'val_accuracy'])"
      ]
     },
     "execution_count": 19,
     "metadata": {},
     "output_type": "execute_result"
    }
   ],
   "source": [
    "bigger_history_dict.keys()"
   ]
  },
  {
   "cell_type": "code",
   "execution_count": 20,
   "metadata": {},
   "outputs": [
    {
     "data": {
      "image/png": "[encoded data removed]",
      "text/plain": [
       "<Figure size 432x288 with 1 Axes>"
      ]
     },
     "metadata": {
      "needs_background": "light"
     },
     "output_type": "display_data"
    }
   ],
   "source": [
    "# Model loss plot\n",
    "\n",
    "import matplotlib.pyplot as plt\n",
    "\n",
    "loss_values = history_dict['loss']\n",
    "val_loss_values = history_dict['val_loss']\n",
    "epochs = range(1, len(history_dict['accuracy']) + 1)\n",
    "\n",
    "plt.plot(epochs, loss_values, 'bo', label='Training loss')\n",
    "plt.plot(epochs, val_loss_values, 'b', label='Validation loss')\n",
    "plt.title('Training and validation loss')\n",
    "plt.xlabel('Epochs')\n",
    "plt.ylabel('Loss')\n",
    "plt.legend()\n",
    "plt.show()"
   ]
  },
  {
   "cell_type": "code",
   "execution_count": 24,
   "metadata": {
    "scrolled": true
   },
   "outputs": [
    {
     "data": {
      "image/png": "[encoded data removed]",
      "text/plain": [
       "<Figure size 432x288 with 1 Axes>"
      ]
     },
     "metadata": {
      "needs_background": "light"
     },
     "output_type": "display_data"
    }
   ],
   "source": [
    "#Smaller model loss plot\n",
    "\n",
    "import matplotlib.pyplot as plt\n",
    "\n",
    "smaller_loss_values = smaller_history_dict['loss']\n",
    "smaller_val_loss_values = smaller_history_dict['val_loss']\n",
    "smaller_epochs = range(1, len(smaller_history_dict['accuracy']) + 1)\n",
    "\n",
    "plt.plot(smaller_epochs, smaller_loss_values, 'bo', label='Training loss')\n",
    "plt.plot(smaller_epochs, smaller_val_loss_values, 'b', label='Validation loss')\n",
    "plt.title('Training and validation loss')\n",
    "plt.xlabel('Epochs')\n",
    "plt.ylabel('Loss')\n",
    "plt.legend()\n",
    "plt.show()"
   ]
  },
  {
   "cell_type": "code",
   "execution_count": 21,
   "metadata": {},
   "outputs": [
    {
     "data": {
      "image/png": "[encoded data removed]",
      "text/plain": [
       "<Figure size 432x288 with 1 Axes>"
      ]
     },
     "metadata": {
      "needs_background": "light"
     },
     "output_type": "display_data"
    }
   ],
   "source": [
    "#Bigger model loss plot\n",
    "\n",
    "import matplotlib.pyplot as plt\n",
    "\n",
    "bigger_loss_values = bigger_history_dict['loss']\n",
    "bigger_val_loss_values = bigger_history_dict['val_loss']\n",
    "bigger_epochs = range(1, len(bigger_history_dict['accuracy']) + 1)\n",
    "\n",
    "plt.plot(bigger_epochs, bigger_loss_values, 'bo', label='Training loss')\n",
    "plt.plot(bigger_epochs, bigger_val_loss_values, 'b', label='Validation loss')\n",
    "plt.title('Training and validation loss')\n",
    "plt.xlabel('Epochs')\n",
    "plt.ylabel('Loss')\n",
    "plt.legend()\n",
    "plt.show()"
   ]
  },
  {
   "cell_type": "code",
   "execution_count": 53,
   "metadata": {
    "scrolled": true
   },
   "outputs": [
    {
     "data": {
      "image/png": "[encoded data removed]",
      "text/plain": [
       "<Figure size 432x288 with 1 Axes>"
      ]
     },
     "metadata": {
      "needs_background": "light"
     },
     "output_type": "display_data"
    }
   ],
   "source": [
    "# VALID PLOT\n",
    "\n",
    "acc_values = history_dict['accuracy']\n",
    "val_acc_values = history_dict['val_accuracy']\n",
    "plt.plot(epochs, history_dict['accuracy'], 'bo', label='Training acc')\n",
    "plt.plot(epochs, history_dict['val_accuracy'], 'b', label='Validation acc')\n",
    "plt.title('Training and validation accuracy')\n",
    "plt.xlabel('Epochs')\n",
    "plt.ylabel('Loss')\n",
    "plt.legend()\n",
    "plt.show()"
   ]
  },
  {
   "cell_type": "code",
   "execution_count": 26,
   "metadata": {
    "scrolled": true
   },
   "outputs": [
    {
     "data": {
      "image/png": "[encoded data removed]",
      "text/plain": [
       "<Figure size 432x288 with 1 Axes>"
      ]
     },
     "metadata": {
      "needs_background": "light"
     },
     "output_type": "display_data"
    }
   ],
   "source": [
    "# VALID PLOT SMALLER MODEL\n",
    "\n",
    "smaller_acc_values = smaller_history_dict['accuracy']\n",
    "smaller_val_acc_values = smaller_history_dict['val_accuracy']\n",
    "plt.plot(smaller_epochs, smaller_history_dict['accuracy'], 'bo', label='Training acc')\n",
    "plt.plot(smaller_epochs, smaller_history_dict['val_accuracy'], 'b', label='Validation acc')\n",
    "plt.title('Training and validation accuracy')\n",
    "plt.xlabel('Epochs')\n",
    "plt.ylabel('Loss')\n",
    "plt.legend()\n",
    "plt.show()"
   ]
  },
  {
   "cell_type": "code",
   "execution_count": 25,
   "metadata": {
    "scrolled": true
   },
   "outputs": [
    {
     "data": {
      "image/png": "[encoded data removed]",
      "text/plain": [
       "<Figure size 432x288 with 1 Axes>"
      ]
     },
     "metadata": {
      "needs_background": "light"
     },
     "output_type": "display_data"
    }
   ],
   "source": [
    "# VALID PLOT BIGGER MODEL\n",
    "\n",
    "bigger_acc_values = bigger_history_dict['accuracy']\n",
    "bigger_val_acc_values = bigger_history_dict['val_accuracy']\n",
    "plt.plot(bigger_epochs, bigger_history_dict['accuracy'], 'bo', label='Training acc')\n",
    "plt.plot(bigger_epochs, bigger_history_dict['val_accuracy'], 'b', label='Validation acc')\n",
    "plt.title('Training and validation accuracy')\n",
    "plt.xlabel('Epochs')\n",
    "plt.ylabel('Loss')\n",
    "plt.legend()\n",
    "plt.show()"
   ]
  },
  {
   "cell_type": "markdown",
   "metadata": {},
   "source": [
    "## Weight Regularization\n",
    "A simple model in this context is a model where the distribution of parameter values\n",
    "has less entropy (or a model with fewer parameters, as you saw in the previous sec-\n",
    "tion). Thus a common way to mitigate overfitting is to put constraints on the complex-\n",
    "ity of a network by forcing its weights to take only small values, which makes the\n",
    "distribution of weight values more regular. This is called weight regularization, and it’s\n",
    "done by adding to the loss function of the network a cost associated with having large\n",
    "weights. This cost comes in two flavors:\n",
    "* L1 regularization—The cost added is proportional to the absolute value of the weight coefficients (the L1 norm of the weights).\n",
    "* L2 regularization—The cost added is proportional to the square of the value of the weight coefficients (the L2 norm of the weights). L2 regularization is also called weight decay in the context of neural networks. Don’t let the different name confuse you: weight decay is mathematically the same as L2 regularization.\n",
    "\n",
    "In Keras, weight regularization is added by passing weight regularizer instances to layers\n",
    "as keyword arguments. Let’s add L2 weight regularization to the movie-review classifi-\n",
    "cation network."
   ]
  },
  {
   "cell_type": "code",
   "execution_count": 27,
   "metadata": {},
   "outputs": [
    {
     "name": "stdout",
     "output_type": "stream",
     "text": [
      "CPU times: user 4 µs, sys: 1e+03 ns, total: 5 µs\n",
      "Wall time: 8.11 µs\n"
     ]
    }
   ],
   "source": [
    "%time\n",
    "\n",
    "from keras import models\n",
    "from keras import layers\n",
    "from keras import regularizers\n",
    "\n",
    "reg_model = models.Sequential()\n",
    "reg_model.add(layers.Dense(16, kernel_regularizer=regularizers.l2(0.001),\n",
    "    activation='relu', input_shape=(10000,)))\n",
    "reg_model.add(layers.Dense(16, kernel_regularizer=regularizers.l2(0.001),\n",
    "    activation='relu'))\n",
    "reg_model.add(layers.Dense(1, activation='sigmoid'))"
   ]
  },
  {
   "cell_type": "markdown",
   "metadata": {},
   "source": [
    "l2(0.001) means every coefficient in the weight matrix of the layer will add 0.001 *\n",
    "weight_coefficient_value to the total loss of the network. Note that because this\n",
    "penalty is only added at training time, the loss for this network will be much higher at\n",
    "training than at test time."
   ]
  },
  {
   "cell_type": "code",
   "execution_count": 28,
   "metadata": {},
   "outputs": [],
   "source": [
    "x_val = x_train[:10000]\n",
    "partial_x_train = x_train[10000:]"
   ]
  },
  {
   "cell_type": "code",
   "execution_count": 29,
   "metadata": {},
   "outputs": [],
   "source": [
    "y_val = y_train[:10000]\n",
    "partial_y_train = y_train[10000:]"
   ]
  },
  {
   "cell_type": "code",
   "execution_count": 30,
   "metadata": {},
   "outputs": [
    {
     "name": "stdout",
     "output_type": "stream",
     "text": [
      "CPU times: user 9 µs, sys: 0 ns, total: 9 µs\n",
      "Wall time: 19.1 µs\n",
      "Epoch 1/20\n",
      "30/30 [==============================] - 1s 43ms/step - loss: 0.5463 - accuracy: 0.7832 - val_loss: 0.4138 - val_accuracy: 0.8669\n",
      "Epoch 2/20\n",
      "30/30 [==============================] - 1s 36ms/step - loss: 0.3467 - accuracy: 0.9014 - val_loss: 0.3727 - val_accuracy: 0.8666\n",
      "Epoch 3/20\n",
      "30/30 [==============================] - 1s 31ms/step - loss: 0.2842 - accuracy: 0.9228 - val_loss: 0.3430 - val_accuracy: 0.8847\n",
      "Epoch 4/20\n",
      "30/30 [==============================] - 1s 31ms/step - loss: 0.2477 - accuracy: 0.9334 - val_loss: 0.3365 - val_accuracy: 0.8860\n",
      "Epoch 5/20\n",
      "30/30 [==============================] - 1s 33ms/step - loss: 0.2254 - accuracy: 0.9445 - val_loss: 0.4108 - val_accuracy: 0.8559\n",
      "Epoch 6/20\n",
      "30/30 [==============================] - 2s 56ms/step - loss: 0.2133 - accuracy: 0.9467 - val_loss: 0.3356 - val_accuracy: 0.8853\n",
      "Epoch 7/20\n",
      "30/30 [==============================] - 1s 32ms/step - loss: 0.2021 - accuracy: 0.9527 - val_loss: 0.3450 - val_accuracy: 0.8825\n",
      "Epoch 8/20\n",
      "30/30 [==============================] - 1s 31ms/step - loss: 0.1943 - accuracy: 0.9545 - val_loss: 0.3521 - val_accuracy: 0.8827\n",
      "Epoch 9/20\n",
      "30/30 [==============================] - 1s 36ms/step - loss: 0.1837 - accuracy: 0.9612 - val_loss: 0.3611 - val_accuracy: 0.8825\n",
      "Epoch 10/20\n",
      "30/30 [==============================] - 1s 31ms/step - loss: 0.1765 - accuracy: 0.9618 - val_loss: 0.3691 - val_accuracy: 0.8793\n",
      "Epoch 11/20\n",
      "30/30 [==============================] - 1s 33ms/step - loss: 0.1721 - accuracy: 0.9640 - val_loss: 0.4067 - val_accuracy: 0.8669\n",
      "Epoch 12/20\n",
      "30/30 [==============================] - 1s 31ms/step - loss: 0.1684 - accuracy: 0.9651 - val_loss: 0.4020 - val_accuracy: 0.8759\n",
      "Epoch 13/20\n",
      "30/30 [==============================] - 1s 37ms/step - loss: 0.1647 - accuracy: 0.9667 - val_loss: 0.3896 - val_accuracy: 0.8777\n",
      "Epoch 14/20\n",
      "30/30 [==============================] - 1s 35ms/step - loss: 0.1584 - accuracy: 0.9690 - val_loss: 0.4136 - val_accuracy: 0.8740\n",
      "Epoch 15/20\n",
      "30/30 [==============================] - 1s 32ms/step - loss: 0.1582 - accuracy: 0.9691 - val_loss: 0.4044 - val_accuracy: 0.8769\n",
      "Epoch 16/20\n",
      "30/30 [==============================] - 2s 55ms/step - loss: 0.1517 - accuracy: 0.9729 - val_loss: 0.4909 - val_accuracy: 0.8582\n",
      "Epoch 17/20\n",
      "30/30 [==============================] - 1s 32ms/step - loss: 0.1540 - accuracy: 0.9700 - val_loss: 0.4297 - val_accuracy: 0.8749\n",
      "Epoch 18/20\n",
      "30/30 [==============================] - 1s 38ms/step - loss: 0.1561 - accuracy: 0.9685 - val_loss: 0.4331 - val_accuracy: 0.8684\n",
      "Epoch 19/20\n",
      "30/30 [==============================] - 1s 32ms/step - loss: 0.1447 - accuracy: 0.9750 - val_loss: 0.4318 - val_accuracy: 0.8720\n",
      "Epoch 20/20\n",
      "30/30 [==============================] - 1s 31ms/step - loss: 0.1466 - accuracy: 0.9740 - val_loss: 0.4592 - val_accuracy: 0.8705\n"
     ]
    }
   ],
   "source": [
    "%time\n",
    "reg_model.compile(optimizer='rmsprop',\n",
    "    loss='binary_crossentropy',\n",
    "    metrics=['accuracy'])\n",
    "reg_history = reg_model.fit(partial_x_train,\n",
    "    partial_y_train,\n",
    "    epochs=20,\n",
    "    batch_size=512,\n",
    "    validation_data=(x_val, y_val))"
   ]
  },
  {
   "cell_type": "code",
   "execution_count": 31,
   "metadata": {},
   "outputs": [],
   "source": [
    "reg_history_dict = reg_history.history"
   ]
  },
  {
   "cell_type": "code",
   "execution_count": 32,
   "metadata": {},
   "outputs": [
    {
     "data": {
      "text/plain": [
       "dict_keys(['loss', 'accuracy', 'val_loss', 'val_accuracy'])"
      ]
     },
     "execution_count": 32,
     "metadata": {},
     "output_type": "execute_result"
    }
   ],
   "source": [
    "reg_history_dict.keys()"
   ]
  },
  {
   "cell_type": "code",
   "execution_count": 33,
   "metadata": {},
   "outputs": [
    {
     "data": {
      "image/png": "[encoded data removed]",
      "text/plain": [
       "<Figure size 432x288 with 1 Axes>"
      ]
     },
     "metadata": {
      "needs_background": "light"
     },
     "output_type": "display_data"
    }
   ],
   "source": [
    "# Model loss plot\n",
    "\n",
    "import matplotlib.pyplot as plt\n",
    "\n",
    "reg_loss_values = reg_history_dict['loss']\n",
    "reg_val_loss_values = reg_history_dict['val_loss']\n",
    "reg_epochs = range(1, len(reg_history_dict['accuracy']) + 1)\n",
    "\n",
    "plt.plot(reg_epochs, reg_loss_values, 'bo', label='Training loss')\n",
    "plt.plot(reg_epochs, reg_val_loss_values, 'b', label='Validation loss')\n",
    "plt.title('Training and validation loss')\n",
    "plt.xlabel('Epochs')\n",
    "plt.ylabel('Loss')\n",
    "plt.legend()\n",
    "plt.show()"
   ]
  },
  {
   "cell_type": "code",
   "execution_count": 34,
   "metadata": {
    "scrolled": true
   },
   "outputs": [
    {
     "data": {
      "image/png": "[encoded data removed]",
      "text/plain": [
       "<Figure size 432x288 with 1 Axes>"
      ]
     },
     "metadata": {
      "needs_background": "light"
     },
     "output_type": "display_data"
    }
   ],
   "source": [
    "# VALID PLOT\n",
    "\n",
    "reg_acc_values = reg_history_dict['accuracy']\n",
    "reg_val_acc_values = reg_history_dict['val_accuracy']\n",
    "plt.plot(reg_epochs, reg_history_dict['accuracy'], 'bo', label='Training acc')\n",
    "plt.plot(reg_epochs, reg_history_dict['val_accuracy'], 'b', label='Validation acc')\n",
    "plt.title('Training and validation accuracy')\n",
    "plt.xlabel('Epochs')\n",
    "plt.ylabel('Loss')\n",
    "plt.legend()\n",
    "plt.show()"
   ]
  },
  {
   "cell_type": "markdown",
   "metadata": {},
   "source": [
    "### Tipi di regolarizzatori"
   ]
  },
  {
   "cell_type": "code",
   "execution_count": 35,
   "metadata": {},
   "outputs": [
    {
     "data": {
      "text/plain": [
       "<tensorflow.python.keras.regularizers.L1L2 at 0x7f4838419410>"
      ]
     },
     "execution_count": 35,
     "metadata": {},
     "output_type": "execute_result"
    }
   ],
   "source": [
    "from keras import regularizers\n",
    "#L1 regularization\n",
    "regularizers.l1(0.001)\n",
    "#L1+L2 regularization\n",
    "regularizers.l1_l2(l1=0.001, l2=0.001)"
   ]
  },
  {
   "cell_type": "markdown",
   "metadata": {},
   "source": [
    "## Dropout\n",
    "Consider a Numpy matrix containing the output of a layer, layer_output , of shape (batch_size, features) . Attraining time, we zero out at random a fraction of the values in the matrix:\n",
    "\n",
    "In this example we drop out 50%\n",
    "\n",
    "```python\n",
    "layer_output *= np.random.randint(0, high=2, size=layer_output.shape) \n",
    "```\n",
    "\n",
    "\n",
    "At test time, we scale down the output by the dropout rate. \n",
    "\n",
    "Here, we scale by 0.5\n",
    "(because we previously dropped half the units):\n",
    "\n",
    "```python\n",
    "layer_output *= 0.5 \n",
    "```\n",
    "\n",
    "\n",
    "In Keras si usa:\n",
    "\n",
    "```python\n",
    "model.add(layers.Dropout(0.5))\n",
    "```"
   ]
  },
  {
   "cell_type": "code",
   "execution_count": 37,
   "metadata": {},
   "outputs": [
    {
     "name": "stdout",
     "output_type": "stream",
     "text": [
      "CPU times: user 5 µs, sys: 0 ns, total: 5 µs\n",
      "Wall time: 9.54 µs\n"
     ]
    }
   ],
   "source": [
    "%time\n",
    "\n",
    "from keras import models\n",
    "from keras import layers\n",
    "\n",
    "drop_model = models.Sequential()\n",
    "drop_model.add(layers.Dense(16, activation='relu', input_shape=(10000,)))\n",
    "drop_model.add(layers.Dropout(0.5))\n",
    "drop_model.add(layers.Dense(16, activation='relu'))\n",
    "drop_model.add(layers.Dropout(0.5))\n",
    "drop_model.add(layers.Dense(1, activation='sigmoid'))"
   ]
  },
  {
   "cell_type": "code",
   "execution_count": 38,
   "metadata": {},
   "outputs": [],
   "source": [
    "x_val = x_train[:10000]\n",
    "partial_x_train = x_train[10000:]"
   ]
  },
  {
   "cell_type": "code",
   "execution_count": 39,
   "metadata": {},
   "outputs": [],
   "source": [
    "y_val = y_train[:10000]\n",
    "partial_y_train = y_train[10000:]"
   ]
  },
  {
   "cell_type": "code",
   "execution_count": 40,
   "metadata": {},
   "outputs": [
    {
     "name": "stdout",
     "output_type": "stream",
     "text": [
      "CPU times: user 4 µs, sys: 1e+03 ns, total: 5 µs\n",
      "Wall time: 9.3 µs\n",
      "Epoch 1/20\n",
      "30/30 [==============================] - 1s 34ms/step - loss: 0.5977 - accuracy: 0.6777 - val_loss: 0.4545 - val_accuracy: 0.8581\n",
      "Epoch 2/20\n",
      "30/30 [==============================] - 1s 31ms/step - loss: 0.4614 - accuracy: 0.8004 - val_loss: 0.3602 - val_accuracy: 0.8797\n",
      "Epoch 3/20\n",
      "30/30 [==============================] - 1s 31ms/step - loss: 0.3812 - accuracy: 0.8484 - val_loss: 0.3102 - val_accuracy: 0.8857\n",
      "Epoch 4/20\n",
      "30/30 [==============================] - 1s 32ms/step - loss: 0.3300 - accuracy: 0.8725 - val_loss: 0.2925 - val_accuracy: 0.8888\n",
      "Epoch 5/20\n",
      "30/30 [==============================] - 2s 54ms/step - loss: 0.2863 - accuracy: 0.8951 - val_loss: 0.2772 - val_accuracy: 0.8898\n",
      "Epoch 6/20\n",
      "30/30 [==============================] - 1s 31ms/step - loss: 0.2573 - accuracy: 0.9086 - val_loss: 0.2787 - val_accuracy: 0.8890\n",
      "Epoch 7/20\n",
      "30/30 [==============================] - 1s 31ms/step - loss: 0.2234 - accuracy: 0.9223 - val_loss: 0.2872 - val_accuracy: 0.8877\n",
      "Epoch 8/20\n",
      "30/30 [==============================] - 1s 30ms/step - loss: 0.1966 - accuracy: 0.9322 - val_loss: 0.2841 - val_accuracy: 0.8918\n",
      "Epoch 9/20\n",
      "30/30 [==============================] - 1s 35ms/step - loss: 0.1824 - accuracy: 0.9364 - val_loss: 0.3111 - val_accuracy: 0.8862\n",
      "Epoch 10/20\n",
      "30/30 [==============================] - 1s 38ms/step - loss: 0.1583 - accuracy: 0.9453 - val_loss: 0.3210 - val_accuracy: 0.8898\n",
      "Epoch 11/20\n",
      "30/30 [==============================] - 2s 54ms/step - loss: 0.1449 - accuracy: 0.9499 - val_loss: 0.3397 - val_accuracy: 0.8899\n",
      "Epoch 12/20\n",
      "30/30 [==============================] - 1s 36ms/step - loss: 0.1291 - accuracy: 0.9537 - val_loss: 0.3672 - val_accuracy: 0.8900\n",
      "Epoch 13/20\n",
      "30/30 [==============================] - 1s 34ms/step - loss: 0.1258 - accuracy: 0.9605 - val_loss: 0.3854 - val_accuracy: 0.8893\n",
      "Epoch 14/20\n",
      "30/30 [==============================] - 1s 32ms/step - loss: 0.1072 - accuracy: 0.9653 - val_loss: 0.4076 - val_accuracy: 0.8887\n",
      "Epoch 15/20\n",
      "30/30 [==============================] - 1s 31ms/step - loss: 0.1049 - accuracy: 0.9654 - val_loss: 0.4404 - val_accuracy: 0.8846\n",
      "Epoch 16/20\n",
      "30/30 [==============================] - 1s 30ms/step - loss: 0.0982 - accuracy: 0.9702 - val_loss: 0.4557 - val_accuracy: 0.8882\n",
      "Epoch 17/20\n",
      "30/30 [==============================] - 1s 31ms/step - loss: 0.0920 - accuracy: 0.9714 - val_loss: 0.4804 - val_accuracy: 0.8873\n",
      "Epoch 18/20\n",
      "30/30 [==============================] - 1s 32ms/step - loss: 0.0881 - accuracy: 0.9725 - val_loss: 0.4984 - val_accuracy: 0.8848\n",
      "Epoch 19/20\n",
      "30/30 [==============================] - 1s 31ms/step - loss: 0.0862 - accuracy: 0.9731 - val_loss: 0.5520 - val_accuracy: 0.8803\n",
      "Epoch 20/20\n",
      "30/30 [==============================] - 1s 39ms/step - loss: 0.0880 - accuracy: 0.9731 - val_loss: 0.5077 - val_accuracy: 0.8812\n"
     ]
    }
   ],
   "source": [
    "%time\n",
    "drop_model.compile(optimizer='rmsprop',\n",
    "    loss='binary_crossentropy',\n",
    "    metrics=['accuracy'])\n",
    "drop_history = drop_model.fit(partial_x_train,\n",
    "    partial_y_train,\n",
    "    epochs=20,\n",
    "    batch_size=512,\n",
    "    validation_data=(x_val, y_val))"
   ]
  },
  {
   "cell_type": "code",
   "execution_count": 41,
   "metadata": {},
   "outputs": [],
   "source": [
    "drop_history_dict = drop_history.history"
   ]
  },
  {
   "cell_type": "code",
   "execution_count": 42,
   "metadata": {},
   "outputs": [
    {
     "data": {
      "text/plain": [
       "dict_keys(['loss', 'accuracy', 'val_loss', 'val_accuracy'])"
      ]
     },
     "execution_count": 42,
     "metadata": {},
     "output_type": "execute_result"
    }
   ],
   "source": [
    "drop_history_dict.keys()"
   ]
  },
  {
   "cell_type": "code",
   "execution_count": 43,
   "metadata": {},
   "outputs": [
    {
     "data": {
      "image/png": "[encoded data removed]",
      "text/plain": [
       "<Figure size 432x288 with 1 Axes>"
      ]
     },
     "metadata": {
      "needs_background": "light"
     },
     "output_type": "display_data"
    }
   ],
   "source": [
    "# Model loss plot\n",
    "\n",
    "import matplotlib.pyplot as plt\n",
    "\n",
    "drop_loss_values = drop_history_dict['loss']\n",
    "drop_val_loss_values = drop_history_dict['val_loss']\n",
    "drop_epochs = range(1, len(drop_history_dict['accuracy']) + 1)\n",
    "\n",
    "plt.plot(drop_epochs, drop_loss_values, 'bo', label='Training loss')\n",
    "plt.plot(drop_epochs, drop_val_loss_values, 'b', label='Validation loss')\n",
    "plt.title('Training and validation loss')\n",
    "plt.xlabel('Epochs')\n",
    "plt.ylabel('Loss')\n",
    "plt.legend()\n",
    "plt.show()"
   ]
  },
  {
   "cell_type": "code",
   "execution_count": 44,
   "metadata": {
    "scrolled": true
   },
   "outputs": [
    {
     "data": {
      "image/png": "[encoded data removed]",
      "text/plain": [
       "<Figure size 432x288 with 1 Axes>"
      ]
     },
     "metadata": {
      "needs_background": "light"
     },
     "output_type": "display_data"
    }
   ],
   "source": [
    "# VALID PLOT\n",
    "\n",
    "drop_acc_values = drop_history_dict['accuracy']\n",
    "drop_val_acc_values = drop_history_dict['val_accuracy']\n",
    "plt.plot(drop_epochs, drop_history_dict['accuracy'], 'bo', label='Training acc')\n",
    "plt.plot(drop_epochs, drop_history_dict['val_accuracy'], 'b', label='Validation acc')\n",
    "plt.title('Training and validation accuracy')\n",
    "plt.xlabel('Epochs')\n",
    "plt.ylabel('Loss')\n",
    "plt.legend()\n",
    "plt.show()"
   ]
  },
  {
   "cell_type": "code",
   "execution_count": null,
   "metadata": {},
   "outputs": [],
   "source": []
  },
  {
   "cell_type": "code",
   "execution_count": null,
   "metadata": {},
   "outputs": [],
   "source": []
  },
  {
   "cell_type": "code",
   "execution_count": null,
   "metadata": {},
   "outputs": [],
   "source": []
  },
  {
   "cell_type": "markdown",
   "metadata": {},
   "source": [
    "## Dataset Informations\n",
    "\n",
    "### Bilanciamento\n",
    "IL DATASET E' BILANCIATO!"
   ]
  },
  {
   "cell_type": "code",
   "execution_count": 59,
   "metadata": {},
   "outputs": [
    {
     "name": "stdout",
     "output_type": "stream",
     "text": [
      "Percentuale di istanze con label 1 nel dataset:\n",
      "50.0%\n",
      "Percentuale di istanze con label 0 nel dataset:\n",
      "50.0%\n"
     ]
    }
   ],
   "source": [
    "print(\"Percentuale di istanze con label 1 nel dataset:\")\n",
    "print(str(np.count_nonzero(train_labels == 1)*100/len(train_labels)) + \"%\")\n",
    "print(\"Percentuale di istanze con label 0 nel dataset:\")\n",
    "print(str(np.count_nonzero(train_labels == 0)*100/len(train_labels)) + \"%\")"
   ]
  },
  {
   "cell_type": "markdown",
   "metadata": {},
   "source": [
    "### Tipo di Validazione\n",
    "Abbiamo 5.000 istanze, meglio fare un cross validation!"
   ]
  },
  {
   "cell_type": "markdown",
   "metadata": {},
   "source": [
    "### Choosing the right last-layer activation and loss function for your model\n",
    "| Problem type | Last-layer activation | Loss function |\n",
    "| - | - | - |\n",
    "| **Binary classification** | ```sigmoid``` | ```binary_crossentropy``` |\n",
    "| **Multiclass, single-label classification** | ```softmax``` | ```categorical_crossentropy``` |\n",
    "| **Multiclass, multilabel  classification** | ```sigmoid``` | ```binary_crossentropy``` |\n",
    "| **Regression to arbitrary values** | ```None``` | ```mse``` |\n",
    "| **Regression to values between 0 and 1** | ```sigmoid``` | ```mse or binary_crossentropy``` |"
   ]
  },
  {
   "cell_type": "markdown",
   "metadata": {},
   "source": [
    "### Come gestire il modello\n",
    "\n",
    "To figure out how big a model you’ll need, you must develop a model that overfits.\n",
    "This is fairly easy:\n",
    "\n",
    "* Add layers.\n",
    "* Make the layers bigger.\n",
    "* Train for more epochs.\n",
    "\n",
    "Always monitor the training loss and validation loss, as well as the training and validation values for any metrics you care about. When you see that the model’s performance on the validation data begins to degrade, you’ve achieved overfitting.\n",
    "The next stage is to start regularizing and tuning the model, to get as close as possible to the ideal model that neither underfits nor overfits.\n",
    "\n",
    "This step will take the most time: you’ll repeatedly modify your model, train it, evaluate on your validation data (not the test data, at this point), modify it again, and\n",
    "repeat, until the model is as good as it can get. These are some things you should try:\n",
    "* Add dropout.\n",
    "* Try different architectures: add or remove layers.\n",
    "* Add L1 and/or L2 regularization.\n",
    "* Try different hyperparameters (such as the number of units per layer or the learning rate of the optimizer) to find the optimal configuration.\n",
    "* Optionally, iterate on feature engineering: add new features, or remove features that don’t seem to be informative."
   ]
  },
  {
   "cell_type": "code",
   "execution_count": null,
   "metadata": {},
   "outputs": [],
   "source": []
  }
 ],
 "metadata": {
  "kernelspec": {
   "display_name": "Python 3",
   "language": "python",
   "name": "python3"
  },
  "language_info": {
   "codemirror_mode": {
    "name": "ipython",
    "version": 3
   },
   "file_extension": ".py",
   "mimetype": "text/x-python",
   "name": "python",
   "nbconvert_exporter": "python",
   "pygments_lexer": "ipython3",
   "version": "3.7.9"
  },
  "latex_envs": {
   "LaTeX_envs_menu_present": true,
   "autoclose": false,
   "autocomplete": true,
   "bibliofile": "biblio.bib",
   "cite_by": "apalike",
   "current_citInitial": 1,
   "eqLabelWithNumbers": true,
   "eqNumInitial": 1,
   "hotkeys": {
    "equation": "Ctrl-E",
    "itemize": "Ctrl-I"
   },
   "labels_anchors": false,
   "latex_user_defs": false,
   "report_style_numbering": false,
   "user_envs_cfg": false
  }
 },
 "nbformat": 4,
 "nbformat_minor": 4
}
