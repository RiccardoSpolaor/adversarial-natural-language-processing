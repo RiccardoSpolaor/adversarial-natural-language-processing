{
 "cells": [
  {
   "cell_type": "markdown",
   "metadata": {},
   "source": [
    "# 00 Training and evaluating a DNN model on the IMDB Dataset\n",
    "## Downloading and data preprocessing\n",
    "\n",
    "Downloaded the dataset at http://ai.stanford.edu/~amaas/data/sentiment/\n",
    "\n",
    "```\n",
    "@InProceedings{maas-EtAl:2011:ACL-HLT2011,\n",
    "  author    = {Maas, Andrew L.  and  Daly, Raymond E.  and  Pham, Peter T.  and  Huang, Dan  and  Ng, Andrew Y.  and  Potts, Christopher},\n",
    "  title     = {Learning Word Vectors for Sentiment Analysis},\n",
    "  booktitle = {Proceedings of the 49th Annual Meeting of the Association for Computational Linguistics: Human Language Technologies},\n",
    "  month     = {June},\n",
    "  year      = {2011},\n",
    "  address   = {Portland, Oregon, USA},\n",
    "  publisher = {Association for Computational Linguistics},\n",
    "  pages     = {142--150},\n",
    "  url       = {http://www.aclweb.org/anthology/P11-1015}\n",
    "}\n",
    "```"
   ]
  },
  {
   "cell_type": "code",
   "execution_count": 351,
   "metadata": {},
   "outputs": [
    {
     "name": "stdout",
     "output_type": "stream",
     "text": [
      "CPU times: user 19 µs, sys: 4 µs, total: 23 µs\n",
      "Wall time: 43.2 µs\n"
     ]
    }
   ],
   "source": [
    "%time\n",
    "\n",
    "import os\n",
    "import pandas as pd\n",
    "\n",
    "df = pd.DataFrame(columns = ['text','sentiment'])\n",
    "\n",
    "imdb_dir = \"./datasets/aclImdb\"\n",
    "\n",
    "for dir_kind in ['train','test']:\n",
    "    for label_type in ['neg', 'pos']:\n",
    "        dir_name = os.path.join(imdb_dir, dir_kind, label_type)\n",
    "        for fname in os.listdir(dir_name):\n",
    "            if fname[-4:] == '.txt':\n",
    "                f = open(os.path.join(dir_name, fname))\n",
    "                df = df.append({'text': f.read(), 'sentiment': ['neg','pos'].index(label_type)}, ignore_index = True)\n",
    "                f.close()"
   ]
  },
  {
   "cell_type": "code",
   "execution_count": 352,
   "metadata": {},
   "outputs": [
    {
     "data": {
      "text/html": [
       "<div>\n",
       "<style scoped>\n",
       "    .dataframe tbody tr th:only-of-type {\n",
       "        vertical-align: middle;\n",
       "    }\n",
       "\n",
       "    .dataframe tbody tr th {\n",
       "        vertical-align: top;\n",
       "    }\n",
       "\n",
       "    .dataframe thead th {\n",
       "        text-align: right;\n",
       "    }\n",
       "</style>\n",
       "<table border=\"1\" class=\"dataframe\">\n",
       "  <thead>\n",
       "    <tr style=\"text-align: right;\">\n",
       "      <th></th>\n",
       "      <th>text</th>\n",
       "      <th>sentiment</th>\n",
       "    </tr>\n",
       "  </thead>\n",
       "  <tbody>\n",
       "    <tr>\n",
       "      <th>0</th>\n",
       "      <td>I am quite a fan of novelist/screenwriter Mich...</td>\n",
       "      <td>0</td>\n",
       "    </tr>\n",
       "    <tr>\n",
       "      <th>1</th>\n",
       "      <td>If this book remained faithful to the book the...</td>\n",
       "      <td>0</td>\n",
       "    </tr>\n",
       "    <tr>\n",
       "      <th>2</th>\n",
       "      <td>The Eternal Jew (Der Ewige Jude) does not have...</td>\n",
       "      <td>0</td>\n",
       "    </tr>\n",
       "    <tr>\n",
       "      <th>3</th>\n",
       "      <td>Here are the matches . . . (adv. = advantage)&lt;...</td>\n",
       "      <td>0</td>\n",
       "    </tr>\n",
       "    <tr>\n",
       "      <th>4</th>\n",
       "      <td>I'm sorry but I didn't like this doc very much...</td>\n",
       "      <td>0</td>\n",
       "    </tr>\n",
       "  </tbody>\n",
       "</table>\n",
       "</div>"
      ],
      "text/plain": [
       "                                                text sentiment\n",
       "0  I am quite a fan of novelist/screenwriter Mich...         0\n",
       "1  If this book remained faithful to the book the...         0\n",
       "2  The Eternal Jew (Der Ewige Jude) does not have...         0\n",
       "3  Here are the matches . . . (adv. = advantage)<...         0\n",
       "4  I'm sorry but I didn't like this doc very much...         0"
      ]
     },
     "execution_count": 352,
     "metadata": {},
     "output_type": "execute_result"
    }
   ],
   "source": [
    "df.head()"
   ]
  },
  {
   "cell_type": "code",
   "execution_count": 353,
   "metadata": {},
   "outputs": [
    {
     "name": "stdout",
     "output_type": "stream",
     "text": [
      "Number of negative istances: 25000\n",
      "Number of positive istances: 25000\n",
      "Il dataset risulta essere bilanciato!\n"
     ]
    }
   ],
   "source": [
    "print ('Number of negative istances:', len(df[df['sentiment'] == 0]))\n",
    "print ('Number of positive istances:', len(df[df['sentiment'] == 1]))\n",
    "print ('Il dataset risulta essere bilanciato!')"
   ]
  },
  {
   "cell_type": "code",
   "execution_count": 354,
   "metadata": {},
   "outputs": [
    {
     "name": "stdout",
     "output_type": "stream",
     "text": [
      "I am quite a fan of novelist/screenwriter Michael Chabon. His novel \"Wonder Boys\" became a fantastic movie by Curtis Hanson. His masterful novel \"The Amazing Adventures of Kavalier and Clay\" won the Pulitzer Prize a few years back, and he had a hand in the script of \"Spider Man 2\", arguably the greatest comic book movie of all time.<br /><br />Director Rawson Marshall Thurber has also directed wonderful comedic pieces, such as the gut-busting \"Dodgeball\" and the genius short film series \"Terry Tate: Office Linebacker\". And with a cast including Peter Saarsgard, Sienna Miller, Nick Nolte and Mena Suvari, this seems like a no-brainer.<br /><br />It is. Literally.<br /><br />Jon Foster stars as Art Bechstein, the son of a mobster (Nolte) who recently graduated with a degree in Economics. Jon is in a state of arrested development: he works a minimum wage job at Book Barn, has a vapid relationship with his girlfriend/boss, Phlox (Suvari), which amounts to little more than copious amounts of sex, with no plans other than to chip away at a career for which he has zero passion.<br /><br />One night at a party, an ex-roommate introduces Jon to Jane (Miller), a beautiful, smart violinist. Later that night they go out for pie, and she asks Jon a question that begins to shake him from his catatonic state of existence, \"I want you to tell me something that you have never told a single soul. If you do, it will make this night indelible.\" Jon then tells her a reoccurring dream of his in which he wanders about town looking at the faces of strangers passing him by, yet none of them look him in the eye. \"I imagine it must be what death feels like,\" he says.<br /><br />The next day Jane's wild boyfriend Cleveland (Saarsgard) kidnaps Jon from work and takes him out to a hulking abandoned steel mill, and soon Jon, Cleveland and Jane are spending every waking moment together going to punk rock concerts, doing drugs and drinking lots of alcohol. This doesn't sit well with Phlox, who pushes Jon for a more personal relationship, namely letting her meet his new friends and his father. The film then attempts to take us on Jon's journey as he shakes off the shackles imposed on him by his father, Phlox and his dead-end job as he finds freedom and expression through his relationships with Cleveland and Jane.<br /><br />There is a problem having us follow Jon throughout the film: he's completely uninteresting. He has no ambitions, passions or goals. He walks through life like the invisible wraith he described to Jane the night they met. At the outset this isn't a problem. But he never gets any more interesting. He's a completely passive character. He simply follows along the bohemian Cleveland and Jane, but he never once gives us any inkling as to what he cares about or wants to to do with himself.<br /><br />Consequently, the film and its supporting characters have nowhere to go and little to do other than party, have sex and get in arguments. In other words, much ado about nothing. What we have here is the shallow skin of a good movie without anything on the inside. Sweeping cinematography, ponderous voice-over with characters staring off into the distance, lots of sex scenes both straight and gay, big arguments, more angry sex, a chase scene and a tragic death... but it doesn't seem to matter. Ironically, at one point Jane, confused at a number of Jon's aimless actions, asks him, \"What's going on, Jon? What is this all about?\" Yes, Jon, do tell. We in the audience are dying to know, too.<br /><br />The title \"The Mysteries of Pittsburgh\" must refer to the characters themselves, because that's what they are. They are all facades, one-dimensional stand-ins for actual people. The film never lets us in. We never know what makes any of them tick. We see them do lots of things, but we don't know why. And the absence of \"why\" is one of the worst things a movie can have.\n"
     ]
    }
   ],
   "source": [
    "print(df['text'][0])"
   ]
  },
  {
   "cell_type": "code",
   "execution_count": 355,
   "metadata": {},
   "outputs": [
    {
     "name": "stderr",
     "output_type": "stream",
     "text": [
      "[nltk_data] Downloading package stopwords to /home/spola/nltk_data...\n",
      "[nltk_data]   Package stopwords is already up-to-date!\n"
     ]
    }
   ],
   "source": [
    "from bs4 import BeautifulSoup\n",
    "import re\n",
    "import nltk\n",
    "from nltk.corpus import stopwords\n",
    "from nltk.tokenize.toktok import ToktokTokenizer\n",
    "from nltk.stem.porter import PorterStemmer\n",
    "\n",
    "nltk.download('stopwords')\n",
    "stopword_list = stopwords.words('english')\n",
    "\n",
    "def remove_html_tags(text):\n",
    "    return BeautifulSoup(text, 'lxml').text\n",
    "\n",
    "def remove_special_characters (text):\n",
    "    pattern=r'[^a-zA-z0-9\\s]'\n",
    "    return re.sub(pattern,' ',text)\n",
    "\n",
    "def stemmer(text):\n",
    "    ps=nltk.porter.PorterStemmer()\n",
    "    text= ' '.join([ps.stem(word) for word in text.split()])\n",
    "    return text\n",
    "\n",
    "def remove_stopwords(text):\n",
    "    tokens = ToktokTokenizer().tokenize(text)\n",
    "    tokens = [token.strip() for token in tokens]\n",
    "    filtered_tokens = [token for token in tokens if token.lower() not in stopword_list]\n",
    "    filtered_text = ' '.join(filtered_tokens)    \n",
    "    return filtered_text\n",
    "\n",
    "def text_preprocessing(text):\n",
    "    text = remove_html_tags(text)\n",
    "    text = remove_special_characters (text)\n",
    "    #text = stemmer(text)\n",
    "    text = remove_stopwords(text)\n",
    "    return text"
   ]
  },
  {
   "cell_type": "code",
   "execution_count": 356,
   "metadata": {},
   "outputs": [
    {
     "name": "stdout",
     "output_type": "stream",
     "text": [
      "quite fan novelist screenwriter Michael Chabon novel Wonder Boys became fantastic movie Curtis Hanson masterful novel Amazing Adventures Kavalier Clay Pulitzer Prize years back hand script Spider Man 2 arguably greatest comic book movie time Director Rawson Marshall Thurber also directed wonderful comedic pieces gut busting Dodgeball genius short film series Terry Tate Office Linebacker cast including Peter Saarsgard Sienna Miller Nick Nolte Mena Suvari seems like brainer Literally Jon Foster stars Art Bechstein son mobster Nolte recently graduated degree Economics Jon state arrested development works minimum wage job Book Barn vapid relationship girlfriend boss Phlox Suvari amounts little copious amounts sex plans chip away career zero passion One night party ex roommate introduces Jon Jane Miller beautiful smart violinist Later night go pie asks Jon question begins shake catatonic state existence want tell something never told single soul make night indelible Jon tells reoccurring dream wanders town looking faces strangers passing yet none look eye imagine must death feels like says next day Jane wild boyfriend Cleveland Saarsgard kidnaps Jon work takes hulking abandoned steel mill soon Jon Cleveland Jane spending every waking moment together going punk rock concerts drugs drinking lots alcohol sit well Phlox pushes Jon personal relationship namely letting meet new friends father film attempts take us Jon journey shakes shackles imposed father Phlox dead end job finds freedom expression relationships Cleveland Jane problem us follow Jon throughout film completely uninteresting ambitions passions goals walks life like invisible wraith described Jane night met outset problem never gets interesting completely passive character simply follows along bohemian Cleveland Jane never gives us inkling cares wants Consequently film supporting characters nowhere go little party sex get arguments words much ado nothing shallow skin good movie without anything inside Sweeping cinematography ponderous voice characters staring distance lots sex scenes straight gay big arguments angry sex chase scene tragic death seem matter Ironically one point Jane confused number Jon aimless actions asks going Jon Yes Jon tell audience dying know title Mysteries Pittsburgh must refer characters facades one dimensional stand ins actual people film never lets us never know makes tick see lots things know absence one worst things movie\n"
     ]
    }
   ],
   "source": [
    "print(text_preprocessing(df['text'][0]))"
   ]
  },
  {
   "cell_type": "code",
   "execution_count": 357,
   "metadata": {},
   "outputs": [],
   "source": [
    "df['text'] = df['text'].apply(lambda x: text_preprocessing(x))"
   ]
  },
  {
   "cell_type": "code",
   "execution_count": 358,
   "metadata": {},
   "outputs": [
    {
     "data": {
      "text/html": [
       "<div>\n",
       "<style scoped>\n",
       "    .dataframe tbody tr th:only-of-type {\n",
       "        vertical-align: middle;\n",
       "    }\n",
       "\n",
       "    .dataframe tbody tr th {\n",
       "        vertical-align: top;\n",
       "    }\n",
       "\n",
       "    .dataframe thead th {\n",
       "        text-align: right;\n",
       "    }\n",
       "</style>\n",
       "<table border=\"1\" class=\"dataframe\">\n",
       "  <thead>\n",
       "    <tr style=\"text-align: right;\">\n",
       "      <th></th>\n",
       "      <th>text</th>\n",
       "      <th>sentiment</th>\n",
       "    </tr>\n",
       "  </thead>\n",
       "  <tbody>\n",
       "    <tr>\n",
       "      <th>0</th>\n",
       "      <td>quite fan novelist screenwriter Michael Chabon...</td>\n",
       "      <td>0</td>\n",
       "    </tr>\n",
       "    <tr>\n",
       "      <th>1</th>\n",
       "      <td>book remained faithful book assume author igno...</td>\n",
       "      <td>0</td>\n",
       "    </tr>\n",
       "    <tr>\n",
       "      <th>2</th>\n",
       "      <td>Eternal Jew Der Ewige Jude today would call ma...</td>\n",
       "      <td>0</td>\n",
       "    </tr>\n",
       "    <tr>\n",
       "      <th>3</th>\n",
       "      <td>matches adv advantage Warriors Ultimate Warrio...</td>\n",
       "      <td>0</td>\n",
       "    </tr>\n",
       "    <tr>\n",
       "      <th>4</th>\n",
       "      <td>sorry like doc much think million ways could b...</td>\n",
       "      <td>0</td>\n",
       "    </tr>\n",
       "  </tbody>\n",
       "</table>\n",
       "</div>"
      ],
      "text/plain": [
       "                                                text sentiment\n",
       "0  quite fan novelist screenwriter Michael Chabon...         0\n",
       "1  book remained faithful book assume author igno...         0\n",
       "2  Eternal Jew Der Ewige Jude today would call ma...         0\n",
       "3  matches adv advantage Warriors Ultimate Warrio...         0\n",
       "4  sorry like doc much think million ways could b...         0"
      ]
     },
     "execution_count": 358,
     "metadata": {},
     "output_type": "execute_result"
    }
   ],
   "source": [
    "df.head()"
   ]
  },
  {
   "cell_type": "markdown",
   "metadata": {},
   "source": [
    "## Creating the DNN Model"
   ]
  },
  {
   "cell_type": "code",
   "execution_count": 359,
   "metadata": {},
   "outputs": [],
   "source": [
    "from sklearn.model_selection import train_test_split\n",
    "from sklearn.utils import shuffle\n",
    "import numpy as np\n",
    "\n",
    "x_train, x_val, y_train, y_val = train_test_split(df['text'], df['sentiment'], test_size = 0.33, shuffle = True)\n",
    "\n",
    "x_train = list(x_train)\n",
    "x_val = list(x_val)\n",
    "\n",
    "y_train = list(y_train)\n",
    "y_val = list(y_val)"
   ]
  },
  {
   "cell_type": "code",
   "execution_count": 360,
   "metadata": {},
   "outputs": [
    {
     "name": "stdout",
     "output_type": "stream",
     "text": [
      "Found 103331 unique tokens.\n",
      "Shape of train data tensor: (33500, 1429)\n",
      "Shape of train label tensor: (33500,)\n",
      "Shape of validation data tensor: (16500, 1429)\n",
      "Shape of validation label tensor: (16500,)\n"
     ]
    }
   ],
   "source": [
    "from keras.preprocessing.text import Tokenizer\n",
    "from keras.preprocessing.sequence import pad_sequences\n",
    "\n",
    "tokenizer = Tokenizer()\n",
    "texts = x_train + x_val\n",
    "tokenizer.fit_on_texts(texts)\n",
    "\n",
    "maxlen = max([len(t.split()) for t in texts])\n",
    "\n",
    "words_size = len(tokenizer.word_index) + 1\n",
    "\n",
    "train_sequences = tokenizer.texts_to_sequences(x_train)\n",
    "val_sequences = tokenizer.texts_to_sequences(x_val)\n",
    "\n",
    "print('Found %s unique tokens.' % len(tokenizer.word_index))\n",
    "\n",
    "train_data = pad_sequences(train_sequences, maxlen = maxlen)\n",
    "val_data = pad_sequences(val_sequences, maxlen = maxlen)\n",
    "\n",
    "y_train = np.asarray(y_train)\n",
    "y_val = np.asarray(y_val)\n",
    "print('Shape of train data tensor:', train_data.shape)\n",
    "print('Shape of train label tensor:', y_train.shape)\n",
    "\n",
    "print('Shape of validation data tensor:', val_data.shape)\n",
    "print('Shape of validation label tensor:', y_val.shape)\n"
   ]
  },
  {
   "cell_type": "code",
   "execution_count": 361,
   "metadata": {},
   "outputs": [
    {
     "data": {
      "text/plain": [
       "array([[    0,     0,     0, ...,   992,    38,    69],\n",
       "       [    0,     0,     0, ...,   265,   610,   489],\n",
       "       [    0,     0,     0, ...,   113,  1246,   100],\n",
       "       ...,\n",
       "       [    0,     0,     0, ...,  3094,  1636,  1683],\n",
       "       [    0,     0,     0, ...,  1943, 27887,   461],\n",
       "       [    0,     0,     0, ..., 12163, 12163,    11]], dtype=int32)"
      ]
     },
     "execution_count": 361,
     "metadata": {},
     "output_type": "execute_result"
    }
   ],
   "source": [
    "val_data"
   ]
  },
  {
   "cell_type": "code",
   "execution_count": 362,
   "metadata": {},
   "outputs": [
    {
     "data": {
      "text/plain": [
       "array([1, 0, 1, ..., 1, 0, 0])"
      ]
     },
     "execution_count": 362,
     "metadata": {},
     "output_type": "execute_result"
    }
   ],
   "source": [
    "y_train"
   ]
  },
  {
   "cell_type": "code",
   "execution_count": 363,
   "metadata": {},
   "outputs": [
    {
     "name": "stdout",
     "output_type": "stream",
     "text": [
      "Model: \"sequential_16\"\n",
      "_________________________________________________________________\n",
      "Layer (type)                 Output Shape              Param #   \n",
      "=================================================================\n",
      "embedding_16 (Embedding)     (None, 1429, 100)         10333200  \n",
      "_________________________________________________________________\n",
      "flatten_16 (Flatten)         (None, 142900)            0         \n",
      "_________________________________________________________________\n",
      "dense_32 (Dense)             (None, 32)                4572832   \n",
      "_________________________________________________________________\n",
      "dense_33 (Dense)             (None, 1)                 33        \n",
      "=================================================================\n",
      "Total params: 14,906,065\n",
      "Trainable params: 14,906,065\n",
      "Non-trainable params: 0\n",
      "_________________________________________________________________\n"
     ]
    }
   ],
   "source": [
    "from keras.models import Sequential\n",
    "from keras.layers import Embedding, Flatten, Dense\n",
    "\n",
    "EMBEDDING_DIM = 100\n",
    "\n",
    "model = Sequential()\n",
    "model.add(Embedding(words_size, EMBEDDING_DIM, input_length=maxlen))\n",
    "model.add(Flatten())\n",
    "model.add(Dense(32, activation='relu'))\n",
    "model.add(Dense(1, activation='sigmoid'))\n",
    "model.summary()"
   ]
  },
  {
   "cell_type": "code",
   "execution_count": 364,
   "metadata": {},
   "outputs": [],
   "source": [
    "import keras\n",
    "callbacks_list = [\n",
    "    keras.callbacks.EarlyStopping(\n",
    "        monitor='acc',\n",
    "        patience=5\n",
    "    ),\n",
    "    keras.callbacks.ModelCheckpoint(\n",
    "        filepath='my_model.h5',\n",
    "        monitor='val_loss',\n",
    "        save_best_only=True\n",
    "    ),\n",
    "        \n",
    "    keras.callbacks.ReduceLROnPlateau(\n",
    "        monitor='val_loss',\n",
    "        factor=0.1,\n",
    "        patience=5,\n",
    "    )\n",
    "]"
   ]
  },
  {
   "cell_type": "code",
   "execution_count": 365,
   "metadata": {},
   "outputs": [
    {
     "name": "stdout",
     "output_type": "stream",
     "text": [
      "Epoch 1/10\n",
      "262/262 - 41s - loss: 0.5112 - acc: 0.7829 - val_loss: 0.2618 - val_acc: 0.8915 - lr: 0.0010\n",
      "Epoch 2/10\n",
      "262/262 - 41s - loss: 0.1658 - acc: 0.9370 - val_loss: 0.2423 - val_acc: 0.9041 - lr: 0.0010\n",
      "Epoch 3/10\n",
      "262/262 - 41s - loss: 0.0626 - acc: 0.9798 - val_loss: 0.2938 - val_acc: 0.8957 - lr: 0.0010\n",
      "Epoch 4/10\n",
      "262/262 - 41s - loss: 0.0134 - acc: 0.9963 - val_loss: 0.4069 - val_acc: 0.8901 - lr: 0.0010\n",
      "Epoch 5/10\n",
      "262/262 - 41s - loss: 0.0026 - acc: 0.9993 - val_loss: 0.4846 - val_acc: 0.8962 - lr: 0.0010\n",
      "Epoch 6/10\n",
      "262/262 - 40s - loss: 9.7322e-04 - acc: 0.9997 - val_loss: 0.5611 - val_acc: 0.8942 - lr: 0.0010\n",
      "Epoch 7/10\n",
      "262/262 - 41s - loss: 0.0021 - acc: 0.9993 - val_loss: 0.7483 - val_acc: 0.8764 - lr: 0.0010\n",
      "Epoch 8/10\n",
      "262/262 - 41s - loss: 1.7837e-05 - acc: 1.0000 - val_loss: 0.6481 - val_acc: 0.8948 - lr: 1.0000e-04\n",
      "Epoch 9/10\n",
      "262/262 - 41s - loss: 6.8381e-06 - acc: 1.0000 - val_loss: 0.6676 - val_acc: 0.8934 - lr: 1.0000e-04\n",
      "Epoch 10/10\n",
      "262/262 - 42s - loss: 3.1805e-06 - acc: 1.0000 - val_loss: 0.6772 - val_acc: 0.8932 - lr: 1.0000e-04\n"
     ]
    }
   ],
   "source": [
    "model.compile(optimizer='rmsprop',\n",
    "              loss='binary_crossentropy',\n",
    "              metrics=['acc'])\n",
    "history = model.fit(train_data, y_train,\n",
    "                    epochs=10,\n",
    "                    batch_size=128,\n",
    "                    callbacks=callbacks_list,\n",
    "                    validation_data=(val_data, y_val),\n",
    "                    verbose = 2)"
   ]
  },
  {
   "cell_type": "code",
   "execution_count": 366,
   "metadata": {},
   "outputs": [
    {
     "data": {
      "image/png": "[encoded data removed]",
      "text/plain": [
       "<Figure size 432x288 with 1 Axes>"
      ]
     },
     "metadata": {
      "needs_background": "light"
     },
     "output_type": "display_data"
    },
    {
     "data": {
      "image/png": "[encoded data removed]",
      "text/plain": [
       "<Figure size 432x288 with 1 Axes>"
      ]
     },
     "metadata": {
      "needs_background": "light"
     },
     "output_type": "display_data"
    }
   ],
   "source": [
    "import matplotlib.pyplot as plt\n",
    "\n",
    "acc = history.history['acc']\n",
    "val_acc = history.history['val_acc']\n",
    "loss = history.history['loss']\n",
    "val_loss = history.history['val_loss']\n",
    "\n",
    "epochs = range(1, len(acc) + 1)\n",
    "\n",
    "plt.plot(epochs, acc, 'bo', label='Training acc')\n",
    "plt.plot(epochs, val_acc, 'b', label='Validation acc')\n",
    "plt.title('Training and validation accuracy')\n",
    "plt.legend()\n",
    "\n",
    "plt.figure()\n",
    "\n",
    "plt.plot(epochs, loss, 'bo', label='Training loss')\n",
    "plt.plot(epochs, val_loss, 'b', label='Validation loss')\n",
    "plt.title('Training and validation loss')\n",
    "plt.legend()\n",
    "\n",
    "plt.show()"
   ]
  },
  {
   "cell_type": "code",
   "execution_count": 368,
   "metadata": {},
   "outputs": [
    {
     "name": "stdout",
     "output_type": "stream",
     "text": [
      "['liked film', 'film terrible', 'enjoyed watching', 'worst experience ever', 'want see', 'really enjoyed', 'amazing', 'good']\n",
      "0.69772\n",
      "0.13740\n",
      "0.63475\n",
      "0.18960\n",
      "0.68112\n",
      "0.74247\n",
      "0.81663\n",
      "0.57380\n"
     ]
    }
   ],
   "source": [
    "model.load_weights('my_model.h5')\n",
    "\n",
    "test_samples = [\"I liked this film\",\n",
    "               \"the film was terrible...\",\n",
    "               \"I enjoyed watching it!\",\n",
    "               \"It was the worst experience I've ever had!\",\n",
    "               \"I want to see it again!\",\n",
    "               \"I really enjoyed all of it\",\n",
    "               \"It was amazing!\",\n",
    "               \"it was good\"]\n",
    "\n",
    "test_samples = [text_preprocessing(i) for i in test_samples]\n",
    "\n",
    "print(test_samples)\n",
    "\n",
    "test_sequences = tokenizer.texts_to_sequences(test_samples)\n",
    "test_data = pad_sequences(test_sequences, maxlen = maxlen)\n",
    "\n",
    "for i in model.predict(x = test_data):\n",
    "    print(\"{:.5f}\".format(float(i)))"
   ]
  },
  {
   "cell_type": "code",
   "execution_count": null,
   "metadata": {},
   "outputs": [],
   "source": []
  }
 ],
 "metadata": {
  "kernelspec": {
   "display_name": "Python 3",
   "language": "python",
   "name": "python3"
  },
  "language_info": {
   "codemirror_mode": {
    "name": "ipython",
    "version": 3
   },
   "file_extension": ".py",
   "mimetype": "text/x-python",
   "name": "python",
   "nbconvert_exporter": "python",
   "pygments_lexer": "ipython3",
   "version": "3.7.6"
  },
  "latex_envs": {
   "LaTeX_envs_menu_present": true,
   "autoclose": false,
   "autocomplete": true,
   "bibliofile": "biblio.bib",
   "cite_by": "apalike",
   "current_citInitial": 1,
   "eqLabelWithNumbers": true,
   "eqNumInitial": 1,
   "hotkeys": {
    "equation": "Ctrl-E",
    "itemize": "Ctrl-I"
   },
   "labels_anchors": false,
   "latex_user_defs": false,
   "report_style_numbering": false,
   "user_envs_cfg": false
  }
 },
 "nbformat": 4,
 "nbformat_minor": 4
}
