{
 "cells": [
  {
   "cell_type": "code",
   "execution_count": 1,
   "metadata": {},
   "outputs": [],
   "source": [
    "from utils.seed_setter import set_seed\n",
    "set_seed()"
   ]
  },
  {
   "cell_type": "code",
   "execution_count": 2,
   "metadata": {},
   "outputs": [],
   "source": [
    "import pickle,os\n",
    "import matplotlib.pyplot as plt\n",
    "import numpy as np"
   ]
  },
  {
   "cell_type": "code",
   "execution_count": 3,
   "metadata": {},
   "outputs": [],
   "source": [
    "negative_experiments_dictionary = {}\n",
    "positive_experiments_dictionary = {}"
   ]
  },
  {
   "cell_type": "code",
   "execution_count": 4,
   "metadata": {},
   "outputs": [],
   "source": [
    "base_dir='./separated_data/'\n",
    "new_dir ='./big_adversarial_reviews/'\n",
    "neg_dir = 'neg/'\n",
    "pos_dir = 'pos/'"
   ]
  },
  {
   "cell_type": "code",
   "execution_count": 5,
   "metadata": {},
   "outputs": [],
   "source": [
    "class Hyperparameter:\n",
    "    MAX_WORDS = 'maxwords'\n",
    "    TOP_NEIGHBOURS = 'topneighbours'\n",
    "    TOP_LM = 'toplm'\n",
    "    MAX_CHILDREN = 'maxchildren'\n",
    "    MAX_POP_MEMBERS = 'maxpopmembers'\n",
    "    \n",
    "class Result:\n",
    "    EVALUATION = 'Attack Success'\n",
    "    TIME = 'Time'\n",
    "    GENERATIONS = 'Generations'"
   ]
  },
  {
   "cell_type": "code",
   "execution_count": 6,
   "metadata": {},
   "outputs": [],
   "source": [
    "from utils.black_box import BlackBox"
   ]
  },
  {
   "cell_type": "code",
   "execution_count": 7,
   "metadata": {},
   "outputs": [],
   "source": [
    "bb = BlackBox()"
   ]
  },
  {
   "cell_type": "code",
   "execution_count": 9,
   "metadata": {},
   "outputs": [],
   "source": [
    "import os\n",
    "import pickle\n",
    "\n",
    "os.makedirs(os.path.join(new_dir + neg_dir), exist_ok=True)\n",
    "os.makedirs(os.path.join(new_dir + pos_dir), exist_ok=True)"
   ]
  },
  {
   "cell_type": "code",
   "execution_count": 30,
   "metadata": {},
   "outputs": [],
   "source": [
    "def unite_pickle_file(maxwords, topneighbours, toplm, maxchildren, maxpopmembers):\n",
    "    pos_dict = {\n",
    "        'description': 'Parameters:\\n\\tMaximum words to try to change per population member: {}\\n\\tMaximum top neighbours to choose per word to change: {}\\n\\tMaximum top language model substitutes to choose per word to change: {}\\n\\tMaximum children per generation: {}\\n\\tMaximum population members: {}\\n'.format(\n",
    "            maxwords, topneighbours, toplm, maxchildren, maxpopmembers),\n",
    "         'max_words': maxwords,\n",
    "         'top_neighbours': topneighbours,\n",
    "         'top_lm': toplm,\n",
    "         'max_children': maxchildren,\n",
    "         'max_pop_members': maxpopmembers,\n",
    "         'adversarial_list': [],\n",
    "         'time_list': [],\n",
    "         'generations_list': [],\n",
    "         'evaluation': None,\n",
    "         'positive': 1\n",
    "    }\n",
    "    neg_dict = {\n",
    "        'description': 'Parameters:\\n\\tMaximum words to try to change per population member: {}\\n\\tMaximum top neighbours to choose per word to change: {}\\n\\tMaximum top language model substitutes to choose per word to change: {}\\n\\tMaximum children per generation: {}\\n\\tMaximum population members: {}\\n'.format(\n",
    "            maxwords, topneighbours, toplm, maxchildren, maxpopmembers),\n",
    "         'max_words': maxwords,\n",
    "         'top_neighbours': topneighbours,\n",
    "         'top_lm': toplm,\n",
    "         'max_children': maxchildren,\n",
    "         'max_pop_members': maxpopmembers,\n",
    "         'adversarial_list': [],\n",
    "         'time_list': [],\n",
    "         'generations_list': [],\n",
    "         'evaluation': None,\n",
    "         'positive': 0\n",
    "    }\n",
    "    for i in range(10):\n",
    "        with open(os.path.join(base_dir + neg_dir + 'maxwords{}_topneighbours{}_toplm{}_maxchildren{}_maxpopmembers{}_part{}.pickle'.format(\n",
    "            maxwords, \n",
    "            topneighbours, \n",
    "            toplm,\n",
    "            maxchildren,\n",
    "            maxpopmembers,\n",
    "            i\n",
    "        )), 'rb') as f:\n",
    "            pickle_result = pickle.load(f)\n",
    "            neg_dict['adversarial_list'] += pickle_result['adversarial_list']\n",
    "            neg_dict['time_list'] += pickle_result['time_list']\n",
    "            neg_dict['generations_list'] += pickle_result['generations_list']\n",
    "        f.close()\n",
    "        \n",
    "    \n",
    "        with open(os.path.join(base_dir + pos_dir + 'maxwords{}_topneighbours{}_toplm{}_maxchildren{}_maxpopmembers{}_part{}.pickle'.format(\n",
    "            maxwords, \n",
    "            topneighbours, \n",
    "            toplm,\n",
    "            maxchildren,\n",
    "            maxpopmembers,\n",
    "            i\n",
    "        )), 'rb') as f:\n",
    "            pickle_result = pickle.load(f)\n",
    "            pos_dict['adversarial_list'] += pickle_result['adversarial_list']\n",
    "            pos_dict['time_list'] += pickle_result['time_list']\n",
    "            pos_dict['generations_list'] += pickle_result['generations_list']\n",
    "        f.close()\n",
    "    \n",
    "    pos_dict['evaluation'] = bb.evaluate([sent for sent, lab in pos_dict['adversarial_list']], [lab for sent, lab in pos_dict['adversarial_list']])[1]\n",
    "    neg_dict['evaluation'] = bb.evaluate([sent for sent, lab in neg_dict['adversarial_list']], [lab for sent, lab in neg_dict['adversarial_list']])[1]\n",
    "    \n",
    "    with open(os.path.join(new_dir + neg_dir + 'maxwords{}_topneighbours{}_toplm{}_maxchildren{}_maxpopmembers{}.pickle'.format(\n",
    "            maxwords, \n",
    "            topneighbours, \n",
    "            toplm,\n",
    "            maxchildren,\n",
    "            maxpopmembers)), 'wb') as f1:\n",
    "        pickle.dump(neg_dict, f1)\n",
    "    f1.close()\n",
    "    \n",
    "    with open(os.path.join(new_dir + pos_dir + 'maxwords{}_topneighbours{}_toplm{}_maxchildren{}_maxpopmembers{}.pickle'.format(\n",
    "            maxwords, \n",
    "            topneighbours, \n",
    "            toplm,\n",
    "            maxchildren,\n",
    "            maxpopmembers)), 'wb') as f1:\n",
    "        pickle.dump(pos_dict, f1)\n",
    "    f1.close()"
   ]
  },
  {
   "cell_type": "code",
   "execution_count": 31,
   "metadata": {},
   "outputs": [
    {
     "data": {
      "text/plain": [
       "\"def open_pickle_file(name, maxwords, topneighbours, toplm, maxchildren, maxpopmembers):    \\n    with open(os.path.join(base_dir + neg_dir + 'maxwords{}_topneighbours{}_toplm{}_maxchildren{}_maxpopmembers{}.pickle'.format(\\n        maxwords, \\n        topneighbours, \\n        toplm,\\n        maxchildren,\\n        maxpopmembers\\n    )), 'rb') as f:\\n        negative_experiments_dictionary[name] = pickle.load(f)\\n    f.close()\\n    \\n    with open(os.path.join(base_dir + pos_dir + 'maxwords{}_topneighbours{}_toplm{}_maxchildren{}_maxpopmembers{}.pickle'.format(\\n        maxwords, \\n        topneighbours, \\n        toplm,\\n        maxchildren,\\n        maxpopmembers\\n    )), 'rb') as f:\\n        positive_experiments_dictionary[name] = pickle.load(f)\\n    f.close()\""
      ]
     },
     "execution_count": 31,
     "metadata": {},
     "output_type": "execute_result"
    }
   ],
   "source": [
    "'''def open_pickle_file(name, maxwords, topneighbours, toplm, maxchildren, maxpopmembers):    \n",
    "    with open(os.path.join(base_dir + neg_dir + 'maxwords{}_topneighbours{}_toplm{}_maxchildren{}_maxpopmembers{}.pickle'.format(\n",
    "        maxwords, \n",
    "        topneighbours, \n",
    "        toplm,\n",
    "        maxchildren,\n",
    "        maxpopmembers\n",
    "    )), 'rb') as f:\n",
    "        negative_experiments_dictionary[name] = pickle.load(f)\n",
    "    f.close()\n",
    "    \n",
    "    with open(os.path.join(base_dir + pos_dir + 'maxwords{}_topneighbours{}_toplm{}_maxchildren{}_maxpopmembers{}.pickle'.format(\n",
    "        maxwords, \n",
    "        topneighbours, \n",
    "        toplm,\n",
    "        maxchildren,\n",
    "        maxpopmembers\n",
    "    )), 'rb') as f:\n",
    "        positive_experiments_dictionary[name] = pickle.load(f)\n",
    "    f.close()'''"
   ]
  },
  {
   "cell_type": "code",
   "execution_count": 32,
   "metadata": {},
   "outputs": [
    {
     "name": "stdout",
     "output_type": "stream",
     "text": [
      "50/50 [==============================] - 0s 4ms/sample - loss: 0.8888 - acc: 0.0000e+00\n",
      "50/50 [==============================] - 0s 4ms/sample - loss: 0.9406 - acc: 0.0000e+00\n",
      "50/50 [==============================] - 0s 4ms/sample - loss: 0.8368 - acc: 0.0000e+00\n",
      "50/50 [==============================] - 0s 4ms/sample - loss: 0.9776 - acc: 0.0000e+00\n",
      "50/50 [==============================] - 0s 3ms/sample - loss: 0.8473 - acc: 0.0000e+00\n",
      "50/50 [==============================] - 0s 4ms/sample - loss: 1.0406 - acc: 0.0000e+00\n"
     ]
    }
   ],
   "source": [
    "unite_pickle_file(5, 10, 4, 2, 5)\n",
    "unite_pickle_file(10, 10, 4, 2, 5)\n",
    "unite_pickle_file(15, 10, 4, 2, 5)\n",
    "#unite_pickle_file(5, 15, 4, 2, 5)\n",
    "#unite_pickle_file(5, 20, 4, 2, 5)\n",
    "#unite_pickle_file(5, 10, 6, 2, 5)\n",
    "#unite_pickle_file(5, 10, 8, 2, 5)\n",
    "#unite_pickle_file(5, 10, 4, 4, 5)\n",
    "#unite_pickle_file(5, 10, 4, 6, 5)\n",
    "#unite_pickle_file(5, 10, 4, 2, 10)\n",
    "#unite_pickle_file(5, 10, 4, 2, 15)"
   ]
  }
 ],
 "metadata": {
  "kernelspec": {
   "display_name": "TensorFlow-GPU-1.13",
   "language": "python",
   "name": "tf-gpu"
  },
  "language_info": {
   "codemirror_mode": {
    "name": "ipython",
    "version": 3
   },
   "file_extension": ".py",
   "mimetype": "text/x-python",
   "name": "python",
   "nbconvert_exporter": "python",
   "pygments_lexer": "ipython3",
   "version": "3.7.9"
  }
 },
 "nbformat": 4,
 "nbformat_minor": 4
}
