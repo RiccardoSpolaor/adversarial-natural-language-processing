{
 "cells": [
  {
   "cell_type": "code",
   "execution_count": 6,
   "metadata": {},
   "outputs": [],
   "source": [
    "prova = \"I'm a male, not given to women's movies, but this is really a well done special story. I've no personal love for Jane Fonda as a person but she does one Hell of a fine job, while DeNiro is his usual superb self. Everything is so well done: acting, directing, visuals, settings, photography, casting. If you can enjoy a story of <b>real</b> people and <b>real</b> love - this is a winner.\""
   ]
  },
  {
   "cell_type": "code",
   "execution_count": 65,
   "metadata": {},
   "outputs": [],
   "source": [
    "prova = \"Everything is so well done: acting, directing, visuals... If you can enjoy a story of <b>REAL</b> people and <b>REAL</b> love - this is a winner.\""
   ]
  },
  {
   "cell_type": "code",
   "execution_count": 73,
   "metadata": {},
   "outputs": [],
   "source": [
    "prova = \"Is it a poorly acted, cliche-ridden pile of trash? Of course. Anyone who doesn't realize that when they pick up the box in the video store probably doesn't have any right judging movies in the first place.\""
   ]
  },
  {
   "cell_type": "code",
   "execution_count": 74,
   "metadata": {},
   "outputs": [
    {
     "name": "stdout",
     "output_type": "stream",
     "text": [
      "Is it a poorly acted, cliche-ridden pile of trash? Of course. Anyone who doesn't realize that when they pick up the box in the video store probably doesn't have any right judging movies in the first place.\n"
     ]
    }
   ],
   "source": [
    "print(prova)"
   ]
  },
  {
   "cell_type": "code",
   "execution_count": 75,
   "metadata": {},
   "outputs": [],
   "source": [
    "from bs4 import BeautifulSoup\n",
    "import pickle\n",
    "from nltk.tokenize.treebank import TreebankWordTokenizer"
   ]
  },
  {
   "cell_type": "code",
   "execution_count": 76,
   "metadata": {},
   "outputs": [],
   "source": [
    "with open('./pickle_data/preprocesser_utils/utils.pickle', 'rb') as f:\n",
    "        symbols_to_delete, symbols_to_isolate = pickle.load(f)\n",
    "f.close()\n",
    "tree_bank_word_tokenizer = TreebankWordTokenizer()\n",
    "    \n",
    "def __handle_symbols(text):\n",
    "    for symbol in symbols_to_delete:\n",
    "        text = text.replace(symbol, ' ')\n",
    "    for symbol in symbols_to_isolate:\n",
    "        text = text.replace(symbol, ' ' + symbol + ' ')\n",
    "    return text\n",
    "\n",
    "def __handle_contractions(text):\n",
    "    text = tree_bank_word_tokenizer.tokenize(text)\n",
    "    return ' '.join(text)\n",
    "\n",
    "def __fix_quotes(text):\n",
    "    return ' '.join(w[1:] if w.startswith(\"'\") and len(w) > 1 else w for w in text.split())"
   ]
  },
  {
   "cell_type": "code",
   "execution_count": 77,
   "metadata": {},
   "outputs": [
    {
     "name": "stdout",
     "output_type": "stream",
     "text": [
      "Is it a poorly acted, cliche-ridden pile of trash? Of course. Anyone who doesn't realize that when they pick up the box in the video store probably doesn't have any right judging movies in the first place.\n"
     ]
    }
   ],
   "source": [
    "prova = BeautifulSoup(prova, 'lxml').text\n",
    "print (prova)"
   ]
  },
  {
   "cell_type": "code",
   "execution_count": 78,
   "metadata": {},
   "outputs": [
    {
     "name": "stdout",
     "output_type": "stream",
     "text": [
      "is it a poorly acted, cliche-ridden pile of trash? of course. anyone who doesn't realize that when they pick up the box in the video store probably doesn't have any right judging movies in the first place.\n"
     ]
    }
   ],
   "source": [
    "prova = prova.lower()\n",
    "print(prova)"
   ]
  },
  {
   "cell_type": "code",
   "execution_count": null,
   "metadata": {},
   "outputs": [],
   "source": []
  },
  {
   "cell_type": "code",
   "execution_count": 79,
   "metadata": {},
   "outputs": [
    {
     "name": "stdout",
     "output_type": "stream",
     "text": [
      "is it a poorly acted ,  cliche - ridden pile of trash ?  of course .  anyone who doesn't realize that when they pick up the box in the video store probably doesn't have any right judging movies in the first place . \n"
     ]
    }
   ],
   "source": [
    "prova = __handle_symbols(prova)\n",
    "print(prova)"
   ]
  },
  {
   "cell_type": "code",
   "execution_count": null,
   "metadata": {},
   "outputs": [],
   "source": []
  },
  {
   "cell_type": "code",
   "execution_count": 80,
   "metadata": {},
   "outputs": [
    {
     "name": "stdout",
     "output_type": "stream",
     "text": [
      "is it a poorly acted , cliche - ridden pile of trash ? of course . anyone who does n't realize that when they pick up the box in the video store probably does n't have any right judging movies in the first place .\n"
     ]
    }
   ],
   "source": [
    "prova = __handle_contractions(prova)\n",
    "print(prova)"
   ]
  },
  {
   "cell_type": "code",
   "execution_count": 81,
   "metadata": {},
   "outputs": [
    {
     "name": "stdout",
     "output_type": "stream",
     "text": [
      "is it a poorly acted , cliche - ridden pile of trash ? of course . anyone who does n't realize that when they pick up the box in the video store probably does n't have any right judging movies in the first place .\n"
     ]
    }
   ],
   "source": [
    "prova = __fix_quotes(prova)\n",
    "print(prova)"
   ]
  },
  {
   "cell_type": "code",
   "execution_count": null,
   "metadata": {},
   "outputs": [],
   "source": []
  },
  {
   "cell_type": "code",
   "execution_count": null,
   "metadata": {},
   "outputs": [],
   "source": []
  }
 ],
 "metadata": {
  "kernelspec": {
   "display_name": "TensorFlow-GPU-1.13",
   "language": "python",
   "name": "tf-gpu"
  },
  "language_info": {
   "codemirror_mode": {
    "name": "ipython",
    "version": 3
   },
   "file_extension": ".py",
   "mimetype": "text/x-python",
   "name": "python",
   "nbconvert_exporter": "python",
   "pygments_lexer": "ipython3",
   "version": "3.7.9"
  }
 },
 "nbformat": 4,
 "nbformat_minor": 4
}
